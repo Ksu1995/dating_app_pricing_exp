{
 "cells": [
  {
   "cell_type": "code",
   "execution_count": 257,
   "metadata": {},
   "outputs": [],
   "source": [
    "import pandas as pd\n",
    "\n",
    "import seaborn as sns\n",
    "from matplotlib import pyplot as plt\n",
    "import plotly.express as px\n",
    "\n",
    "import numpy as np\n",
    "import scipy.stats as stats\n",
    "from statsmodels.stats.proportion import proportions_ztest\n",
    "\n",
    "import requests\n",
    "import io\n",
    "from urllib.parse import urlencode"
   ]
  },
  {
   "cell_type": "markdown",
   "metadata": {},
   "source": [
    "### Вариант 3\n",
    "Представьте, что вы работаете в крупном дейтинговом приложении.\n",
    "\n",
    "Помимо базовых функций, в приложении также имеется премиум-подписка, которая дает доступ к ряду важных дополнительных возможностей. Был проведен A/B тест, в рамках которого для новых пользователей из нескольких стран была изменена стоимость премиум-подписки* при покупке через две новые платежные системы. При этом стоимость пробного периода оставалась прежней.\n",
    "\n",
    "Проверьте:\n",
    "\n",
    "Был ли эксперимент успешен в целом.\n",
    "\n",
    "* Деньги за подписку списываются ежемесячно до тех пор, пока пользователь её не отменит.\n"
   ]
  },
  {
   "cell_type": "code",
   "execution_count": 258,
   "metadata": {},
   "outputs": [],
   "source": [
    "# Подготавливаем общие настройки для графиков\n",
    "\n",
    "sns.set(\n",
    "    rc={\n",
    "        \"figure.figsize\": (12, 8), #размер графика - 12 дюймов в ширину, 8 в длину\n",
    "        \"axes.titlesize\": 20, #размер заголовка \n",
    "        \"axes.labelsize\": 14, #размер подписей осей\n",
    "        \"xtick.labelsize\": 13, #размер подписей чёрточек на x-оси\n",
    "        \"ytick.labelsize\": 13, #размер подписей чёрточек на y-оси\n",
    "    }\n",
    ")\n",
    "\n",
    "sns.set_style(\"whitegrid\") #тема фона, белая со штриховкой"
   ]
  },
  {
   "cell_type": "markdown",
   "metadata": {},
   "source": [
    "### 1. Exploratory Data Analysis¶"
   ]
  },
  {
   "cell_type": "markdown",
   "metadata": {},
   "source": [
    "Данные\n",
    "Всего есть три группы: тестовая (test), контрольная 1 (control_1) и контрольная 2 (control_2). Для каждой из них:\n",
    "\n",
    "users_*.csv – информация о пользователях:\n",
    "\n",
    "- uid – идентификатор пользователя\n",
    "- age – возраст\n",
    "- attraction_coeff – коэффициент привлекательности\n",
    "- coins – число монеток (внутренняя валюта)\n",
    "- country – страна  \n",
    "- visit_days – в какие дни после регистрации пользователь посещал приложение (напр. в 1, затем в 7)\n",
    "- gender – пол\n",
    "- age_filter_start  – фильтр поиска, мин. значение \n",
    "- age_filter_end  – фильтр поиска, макс. значение \n",
    "- views_count – число полученных оценок \n",
    "- was_premium – был ли когда-либо премиум (либо пробный период премиум-статуса, либо купленный за деньги)\n",
    "- is_premium –  является ли премиум\n",
    "- total_revenue – нормированная выручка \n",
    "\n",
    "\n",
    "transactions_*.csv – информация о платежах пользователей:\n",
    "\n",
    "- uid – идентификатор пользователя\n",
    "- country – страна\n",
    "- joined_at – дата и время регистрации\n",
    "- paid_at – дата и время покупки\n",
    "- revenue – нормированная выручка\n",
    "- payment_id – идентификатор платежа\n",
    "- from_page – откуда пользователь перешел на страницу оплаты\n",
    "- product_type – тип продукта (trial_premium – пробная премиум-подписка, premium_no_trial – премиум-подписка без пробной, coins – подписка за внутреннюю валюту, other_type – другое) \n",
    "\n",
    "Файлы:\n",
    "\n",
    "- users_test – информация о пользователях в тестовой группе. \n",
    "- users_control_1 – информация о пользователях в первой контрольной группе. \n",
    "- users_control_2 – информация о пользователях во второй контрольной группе . \n",
    "- transactions_test – информация о платежах пользователей в тестовой группе. \n",
    "- transactions_control_1 – информация о платежах пользователей в первой контрольной группе. \n",
    "- transactions_control_2 – информация о платежах пользователей во второй контрольной группе "
   ]
  },
  {
   "cell_type": "code",
   "execution_count": 259,
   "metadata": {},
   "outputs": [],
   "source": [
    "# загрузка файлов с ydisk\n",
    "def read_csv_from_ydisk(folder_url):\n",
    "    # Базовый URL для получения загрузочной ссылки для публичных ресурсов\n",
    "    base_download_url = 'https://cloud-api.yandex.net/v1/disk/public/resources/download?'\n",
    "    df = pd.DataFrame()\n",
    "    try:\n",
    "        # Формируем URL для получения прямой ссылки на скачивание\n",
    "        # public_key - это ваша публичная ссылка на файл\n",
    "        final_url = base_download_url + urlencode(dict(public_key=folder_url))\n",
    "\n",
    "        # 1. Получаем прямую ссылку на скачивание файла\n",
    "        response = requests.get(final_url)\n",
    "        response.raise_for_status() # Проверяем на ошибки HTTP\n",
    "        download_link = response.json()['href']\n",
    "\n",
    "        # 2. Скачиваем файл по полученной прямой ссылке\n",
    "        file_content_response = requests.get(download_link)\n",
    "        file_content_response.raise_for_status() # Проверяем на ошибки\n",
    "\n",
    "        # 3. Читаем CSV из содержимого файла, используя pandas\n",
    "        csv_data = io.StringIO(file_content_response.text)\n",
    "        df = pd.read_csv(csv_data, sep = ';')\n",
    "\n",
    "\n",
    "    except requests.exceptions.RequestException as e:\n",
    "        print(f\"Ошибка при работе с API Яндекс.Диска или скачивании файла: {e}\")\n",
    "    except KeyError:\n",
    "        print(f\"Не удалось получить прямую ссылку для скачивания по публичной ссылке '{folder_url}'. Убедитесь, что файл доступен публично и ссылка корректна.\")\n",
    "    except Exception as e:\n",
    "        print(f\"Произошла непредвиденная ошибка: {e}\")\n",
    "    return df    \n",
    "        "
   ]
  },
  {
   "cell_type": "code",
   "execution_count": 260,
   "metadata": {},
   "outputs": [],
   "source": [
    "users_test_url = 'https://disk.yandex.ru/d/4XXIME4osGrMRA'\n",
    "users_control1_url = 'https://disk.yandex.ru/d/yJFydMNNGkEKfg'\n",
    "users_control2_url = 'https://disk.yandex.ru/d/br6KkQupzzTGoQ'\n",
    "\n",
    "transactions_test_url = 'https://disk.yandex.ru/d/gvCWpZ55ODzs2g'\n",
    "transactions_control1_url = 'https://disk.yandex.ru/d/VY5W0keMX5TZBQ'\n",
    "transactions_control2_url = 'https://disk.yandex.ru/d/th5GL0mGOc-qzg'\n",
    "\n",
    "#Загружаем датасеты для анализа\n",
    "users_test = read_csv_from_ydisk(users_test_url)\n",
    "users_control1 = read_csv_from_ydisk(users_control1_url)\n",
    "users_control2 = read_csv_from_ydisk(users_control2_url)\n",
    "\n",
    "transactions_test = read_csv_from_ydisk(transactions_test_url)\n",
    "transactions_control1 = read_csv_from_ydisk(transactions_control1_url)\n",
    "transactions_control2 = read_csv_from_ydisk(transactions_control2_url)"
   ]
  },
  {
   "cell_type": "code",
   "execution_count": 261,
   "metadata": {},
   "outputs": [
    {
     "data": {
      "text/html": [
       "<div>\n",
       "<style scoped>\n",
       "    .dataframe tbody tr th:only-of-type {\n",
       "        vertical-align: middle;\n",
       "    }\n",
       "\n",
       "    .dataframe tbody tr th {\n",
       "        vertical-align: top;\n",
       "    }\n",
       "\n",
       "    .dataframe thead th {\n",
       "        text-align: right;\n",
       "    }\n",
       "</style>\n",
       "<table border=\"1\" class=\"dataframe\">\n",
       "  <thead>\n",
       "    <tr style=\"text-align: right;\">\n",
       "      <th></th>\n",
       "      <th>uid</th>\n",
       "      <th>age</th>\n",
       "      <th>attraction_coeff</th>\n",
       "      <th>coins</th>\n",
       "      <th>country</th>\n",
       "      <th>visit_days</th>\n",
       "      <th>gender</th>\n",
       "      <th>age_filter_start</th>\n",
       "      <th>age_filter_end</th>\n",
       "      <th>views_count</th>\n",
       "      <th>was_premium</th>\n",
       "      <th>is_premium</th>\n",
       "      <th>total_revenue</th>\n",
       "    </tr>\n",
       "  </thead>\n",
       "  <tbody>\n",
       "    <tr>\n",
       "      <th>406</th>\n",
       "      <td>892236423</td>\n",
       "      <td>23</td>\n",
       "      <td>262</td>\n",
       "      <td>378.0</td>\n",
       "      <td>United States of America</td>\n",
       "      <td>1,2,3,4,5,6,7,8,9,10,11,12,13,14,15,16,17,18,1...</td>\n",
       "      <td>1</td>\n",
       "      <td>19</td>\n",
       "      <td>23</td>\n",
       "      <td>1326</td>\n",
       "      <td>1.0</td>\n",
       "      <td>1.0</td>\n",
       "      <td>95823</td>\n",
       "    </tr>\n",
       "  </tbody>\n",
       "</table>\n",
       "</div>"
      ],
      "text/plain": [
       "           uid  age  attraction_coeff  coins                   country  \\\n",
       "406  892236423   23               262  378.0  United States of America   \n",
       "\n",
       "                                            visit_days  gender  \\\n",
       "406  1,2,3,4,5,6,7,8,9,10,11,12,13,14,15,16,17,18,1...       1   \n",
       "\n",
       "     age_filter_start  age_filter_end  views_count  was_premium  is_premium  \\\n",
       "406                19              23         1326          1.0         1.0   \n",
       "\n",
       "     total_revenue  \n",
       "406          95823  "
      ]
     },
     "execution_count": 261,
     "metadata": {},
     "output_type": "execute_result"
    }
   ],
   "source": [
    "users_test[users_test.uid == 892236423]"
   ]
  },
  {
   "cell_type": "code",
   "execution_count": 262,
   "metadata": {},
   "outputs": [
    {
     "name": "stdout",
     "output_type": "stream",
     "text": [
      "<class 'pandas.core.frame.DataFrame'>\n",
      "RangeIndex: 4308 entries, 0 to 4307\n",
      "Data columns (total 13 columns):\n",
      " #   Column            Non-Null Count  Dtype  \n",
      "---  ------            --------------  -----  \n",
      " 0   uid               4308 non-null   int64  \n",
      " 1   age               4308 non-null   int64  \n",
      " 2   attraction_coeff  4308 non-null   int64  \n",
      " 3   coins             49 non-null     float64\n",
      " 4   country           4308 non-null   object \n",
      " 5   visit_days        2978 non-null   object \n",
      " 6   gender            4308 non-null   int64  \n",
      " 7   age_filter_start  4308 non-null   int64  \n",
      " 8   age_filter_end    4308 non-null   int64  \n",
      " 9   views_count       4308 non-null   int64  \n",
      " 10  was_premium       408 non-null    float64\n",
      " 11  is_premium        157 non-null    float64\n",
      " 12  total_revenue     4308 non-null   int64  \n",
      "dtypes: float64(3), int64(8), object(2)\n",
      "memory usage: 437.7+ KB\n"
     ]
    }
   ],
   "source": [
    "users_test.info()"
   ]
  },
  {
   "cell_type": "code",
   "execution_count": 263,
   "metadata": {},
   "outputs": [
    {
     "data": {
      "text/plain": [
       "uid                    0\n",
       "age                    0\n",
       "attraction_coeff       0\n",
       "coins               4259\n",
       "country                0\n",
       "visit_days          1330\n",
       "gender                 0\n",
       "age_filter_start       0\n",
       "age_filter_end         0\n",
       "views_count            0\n",
       "was_premium         3900\n",
       "is_premium          4151\n",
       "total_revenue          0\n",
       "dtype: int64"
      ]
     },
     "execution_count": 263,
     "metadata": {},
     "output_type": "execute_result"
    }
   ],
   "source": [
    "users_test.isna().sum()\n",
    "#пропусков по обязательным полям нет, дополнительная фильтрация не нужна"
   ]
  },
  {
   "cell_type": "code",
   "execution_count": 264,
   "metadata": {},
   "outputs": [
    {
     "name": "stdout",
     "output_type": "stream",
     "text": [
      "Дубликатов uid: 0\n"
     ]
    }
   ],
   "source": [
    "print('Дубликатов uid:', users_test.duplicated(subset='uid').sum())\n",
    "#все id пользователей уникальны, дополнительная фильтрация не нужна"
   ]
  },
  {
   "cell_type": "code",
   "execution_count": 265,
   "metadata": {},
   "outputs": [
    {
     "data": {
      "text/html": [
       "<div>\n",
       "<style scoped>\n",
       "    .dataframe tbody tr th:only-of-type {\n",
       "        vertical-align: middle;\n",
       "    }\n",
       "\n",
       "    .dataframe tbody tr th {\n",
       "        vertical-align: top;\n",
       "    }\n",
       "\n",
       "    .dataframe thead th {\n",
       "        text-align: right;\n",
       "    }\n",
       "</style>\n",
       "<table border=\"1\" class=\"dataframe\">\n",
       "  <thead>\n",
       "    <tr style=\"text-align: right;\">\n",
       "      <th></th>\n",
       "      <th>uid</th>\n",
       "      <th>age</th>\n",
       "      <th>attraction_coeff</th>\n",
       "      <th>coins</th>\n",
       "      <th>country</th>\n",
       "      <th>visit_days</th>\n",
       "      <th>gender</th>\n",
       "      <th>age_filter_start</th>\n",
       "      <th>age_filter_end</th>\n",
       "      <th>views_count</th>\n",
       "      <th>was_premium</th>\n",
       "      <th>is_premium</th>\n",
       "      <th>total_revenue</th>\n",
       "    </tr>\n",
       "  </thead>\n",
       "  <tbody>\n",
       "    <tr>\n",
       "      <th>0</th>\n",
       "      <td>892319115</td>\n",
       "      <td>25</td>\n",
       "      <td>435</td>\n",
       "      <td>NaN</td>\n",
       "      <td>United States of America</td>\n",
       "      <td>1,2,3,4,5,6</td>\n",
       "      <td>0</td>\n",
       "      <td>22</td>\n",
       "      <td>32</td>\n",
       "      <td>982</td>\n",
       "      <td>NaN</td>\n",
       "      <td>NaN</td>\n",
       "      <td>0</td>\n",
       "    </tr>\n",
       "    <tr>\n",
       "      <th>1</th>\n",
       "      <td>891248523</td>\n",
       "      <td>29</td>\n",
       "      <td>500</td>\n",
       "      <td>NaN</td>\n",
       "      <td>United States of America</td>\n",
       "      <td>1,2</td>\n",
       "      <td>1</td>\n",
       "      <td>26</td>\n",
       "      <td>32</td>\n",
       "      <td>12</td>\n",
       "      <td>NaN</td>\n",
       "      <td>NaN</td>\n",
       "      <td>0</td>\n",
       "    </tr>\n",
       "    <tr>\n",
       "      <th>2</th>\n",
       "      <td>891670932</td>\n",
       "      <td>33</td>\n",
       "      <td>800</td>\n",
       "      <td>NaN</td>\n",
       "      <td>France</td>\n",
       "      <td>1,2,3,5,6,8,9,11,13,16</td>\n",
       "      <td>1</td>\n",
       "      <td>30</td>\n",
       "      <td>36</td>\n",
       "      <td>5</td>\n",
       "      <td>NaN</td>\n",
       "      <td>NaN</td>\n",
       "      <td>0</td>\n",
       "    </tr>\n",
       "    <tr>\n",
       "      <th>3</th>\n",
       "      <td>891060786</td>\n",
       "      <td>26</td>\n",
       "      <td>0</td>\n",
       "      <td>NaN</td>\n",
       "      <td>Argentina</td>\n",
       "      <td>1,2,3,4,5</td>\n",
       "      <td>1</td>\n",
       "      <td>23</td>\n",
       "      <td>29</td>\n",
       "      <td>0</td>\n",
       "      <td>NaN</td>\n",
       "      <td>NaN</td>\n",
       "      <td>0</td>\n",
       "    </tr>\n",
       "    <tr>\n",
       "      <th>4</th>\n",
       "      <td>892006554</td>\n",
       "      <td>35</td>\n",
       "      <td>294</td>\n",
       "      <td>NaN</td>\n",
       "      <td>United States of America</td>\n",
       "      <td>1,2,3,5,6,7,8,9,10,12,15,16,17,19</td>\n",
       "      <td>1</td>\n",
       "      <td>30</td>\n",
       "      <td>40</td>\n",
       "      <td>17</td>\n",
       "      <td>NaN</td>\n",
       "      <td>NaN</td>\n",
       "      <td>0</td>\n",
       "    </tr>\n",
       "  </tbody>\n",
       "</table>\n",
       "</div>"
      ],
      "text/plain": [
       "         uid  age  attraction_coeff  coins                   country  \\\n",
       "0  892319115   25               435    NaN  United States of America   \n",
       "1  891248523   29               500    NaN  United States of America   \n",
       "2  891670932   33               800    NaN                    France   \n",
       "3  891060786   26                 0    NaN                 Argentina   \n",
       "4  892006554   35               294    NaN  United States of America   \n",
       "\n",
       "                          visit_days  gender  age_filter_start  \\\n",
       "0                        1,2,3,4,5,6       0                22   \n",
       "1                                1,2       1                26   \n",
       "2             1,2,3,5,6,8,9,11,13,16       1                30   \n",
       "3                          1,2,3,4,5       1                23   \n",
       "4  1,2,3,5,6,7,8,9,10,12,15,16,17,19       1                30   \n",
       "\n",
       "   age_filter_end  views_count  was_premium  is_premium  total_revenue  \n",
       "0              32          982          NaN         NaN              0  \n",
       "1              32           12          NaN         NaN              0  \n",
       "2              36            5          NaN         NaN              0  \n",
       "3              29            0          NaN         NaN              0  \n",
       "4              40           17          NaN         NaN              0  "
      ]
     },
     "execution_count": 265,
     "metadata": {},
     "output_type": "execute_result"
    }
   ],
   "source": [
    "users_control1.head()"
   ]
  },
  {
   "cell_type": "code",
   "execution_count": 266,
   "metadata": {},
   "outputs": [
    {
     "name": "stdout",
     "output_type": "stream",
     "text": [
      "<class 'pandas.core.frame.DataFrame'>\n",
      "RangeIndex: 4340 entries, 0 to 4339\n",
      "Data columns (total 13 columns):\n",
      " #   Column            Non-Null Count  Dtype  \n",
      "---  ------            --------------  -----  \n",
      " 0   uid               4340 non-null   int64  \n",
      " 1   age               4340 non-null   int64  \n",
      " 2   attraction_coeff  4340 non-null   int64  \n",
      " 3   coins             60 non-null     float64\n",
      " 4   country           4340 non-null   object \n",
      " 5   visit_days        3016 non-null   object \n",
      " 6   gender            4340 non-null   int64  \n",
      " 7   age_filter_start  4340 non-null   int64  \n",
      " 8   age_filter_end    4340 non-null   int64  \n",
      " 9   views_count       4340 non-null   int64  \n",
      " 10  was_premium       436 non-null    float64\n",
      " 11  is_premium        192 non-null    float64\n",
      " 12  total_revenue     4340 non-null   int64  \n",
      "dtypes: float64(3), int64(8), object(2)\n",
      "memory usage: 440.9+ KB\n"
     ]
    }
   ],
   "source": [
    "users_control1.info()\n",
    "#пропусков по обязательным полям нет, дополнительная фильтрация не нужна"
   ]
  },
  {
   "cell_type": "code",
   "execution_count": 267,
   "metadata": {},
   "outputs": [
    {
     "name": "stdout",
     "output_type": "stream",
     "text": [
      "Дубликатов uid: 0\n"
     ]
    }
   ],
   "source": [
    "print('Дубликатов uid:', users_control1.duplicated(subset='uid').sum())\n",
    "#все id пользователей уникальны, дополнительная фильтрация не нужна"
   ]
  },
  {
   "cell_type": "code",
   "execution_count": 268,
   "metadata": {},
   "outputs": [
    {
     "data": {
      "text/html": [
       "<div>\n",
       "<style scoped>\n",
       "    .dataframe tbody tr th:only-of-type {\n",
       "        vertical-align: middle;\n",
       "    }\n",
       "\n",
       "    .dataframe tbody tr th {\n",
       "        vertical-align: top;\n",
       "    }\n",
       "\n",
       "    .dataframe thead th {\n",
       "        text-align: right;\n",
       "    }\n",
       "</style>\n",
       "<table border=\"1\" class=\"dataframe\">\n",
       "  <thead>\n",
       "    <tr style=\"text-align: right;\">\n",
       "      <th></th>\n",
       "      <th>uid</th>\n",
       "      <th>age</th>\n",
       "      <th>attraction_coeff</th>\n",
       "      <th>coins</th>\n",
       "      <th>country</th>\n",
       "      <th>visit_days</th>\n",
       "      <th>gender</th>\n",
       "      <th>age_filter_start</th>\n",
       "      <th>age_filter_end</th>\n",
       "      <th>views_count</th>\n",
       "      <th>was_premium</th>\n",
       "      <th>is_premium</th>\n",
       "      <th>total_revenue</th>\n",
       "    </tr>\n",
       "  </thead>\n",
       "  <tbody>\n",
       "    <tr>\n",
       "      <th>0</th>\n",
       "      <td>892035504</td>\n",
       "      <td>37</td>\n",
       "      <td>137</td>\n",
       "      <td>NaN</td>\n",
       "      <td>Israel</td>\n",
       "      <td>1,2,3,4,5,6,7,8,9,11,13</td>\n",
       "      <td>1</td>\n",
       "      <td>30</td>\n",
       "      <td>40</td>\n",
       "      <td>51</td>\n",
       "      <td>NaN</td>\n",
       "      <td>NaN</td>\n",
       "      <td>0</td>\n",
       "    </tr>\n",
       "    <tr>\n",
       "      <th>1</th>\n",
       "      <td>891782112</td>\n",
       "      <td>57</td>\n",
       "      <td>0</td>\n",
       "      <td>NaN</td>\n",
       "      <td>Italy</td>\n",
       "      <td>1</td>\n",
       "      <td>1</td>\n",
       "      <td>54</td>\n",
       "      <td>60</td>\n",
       "      <td>0</td>\n",
       "      <td>NaN</td>\n",
       "      <td>NaN</td>\n",
       "      <td>0</td>\n",
       "    </tr>\n",
       "    <tr>\n",
       "      <th>2</th>\n",
       "      <td>891110337</td>\n",
       "      <td>30</td>\n",
       "      <td>769</td>\n",
       "      <td>NaN</td>\n",
       "      <td>France</td>\n",
       "      <td>1,2,3,4,5</td>\n",
       "      <td>1</td>\n",
       "      <td>27</td>\n",
       "      <td>33</td>\n",
       "      <td>13</td>\n",
       "      <td>NaN</td>\n",
       "      <td>NaN</td>\n",
       "      <td>0</td>\n",
       "    </tr>\n",
       "    <tr>\n",
       "      <th>3</th>\n",
       "      <td>891796320</td>\n",
       "      <td>48</td>\n",
       "      <td>750</td>\n",
       "      <td>NaN</td>\n",
       "      <td>France</td>\n",
       "      <td>1,4,6,8,10,11,12,14,15,16,18</td>\n",
       "      <td>1</td>\n",
       "      <td>45</td>\n",
       "      <td>51</td>\n",
       "      <td>12</td>\n",
       "      <td>NaN</td>\n",
       "      <td>NaN</td>\n",
       "      <td>0</td>\n",
       "    </tr>\n",
       "    <tr>\n",
       "      <th>4</th>\n",
       "      <td>891880212</td>\n",
       "      <td>54</td>\n",
       "      <td>638</td>\n",
       "      <td>NaN</td>\n",
       "      <td>United States of America</td>\n",
       "      <td>1</td>\n",
       "      <td>1</td>\n",
       "      <td>35</td>\n",
       "      <td>53</td>\n",
       "      <td>94</td>\n",
       "      <td>NaN</td>\n",
       "      <td>NaN</td>\n",
       "      <td>0</td>\n",
       "    </tr>\n",
       "  </tbody>\n",
       "</table>\n",
       "</div>"
      ],
      "text/plain": [
       "         uid  age  attraction_coeff  coins                   country  \\\n",
       "0  892035504   37               137    NaN                    Israel   \n",
       "1  891782112   57                 0    NaN                     Italy   \n",
       "2  891110337   30               769    NaN                    France   \n",
       "3  891796320   48               750    NaN                    France   \n",
       "4  891880212   54               638    NaN  United States of America   \n",
       "\n",
       "                     visit_days  gender  age_filter_start  age_filter_end  \\\n",
       "0       1,2,3,4,5,6,7,8,9,11,13       1                30              40   \n",
       "1                             1       1                54              60   \n",
       "2                     1,2,3,4,5       1                27              33   \n",
       "3  1,4,6,8,10,11,12,14,15,16,18       1                45              51   \n",
       "4                             1       1                35              53   \n",
       "\n",
       "   views_count  was_premium  is_premium  total_revenue  \n",
       "0           51          NaN         NaN              0  \n",
       "1            0          NaN         NaN              0  \n",
       "2           13          NaN         NaN              0  \n",
       "3           12          NaN         NaN              0  \n",
       "4           94          NaN         NaN              0  "
      ]
     },
     "execution_count": 268,
     "metadata": {},
     "output_type": "execute_result"
    }
   ],
   "source": [
    "users_control2.head()"
   ]
  },
  {
   "cell_type": "code",
   "execution_count": 269,
   "metadata": {},
   "outputs": [
    {
     "name": "stdout",
     "output_type": "stream",
     "text": [
      "<class 'pandas.core.frame.DataFrame'>\n",
      "RangeIndex: 4264 entries, 0 to 4263\n",
      "Data columns (total 13 columns):\n",
      " #   Column            Non-Null Count  Dtype  \n",
      "---  ------            --------------  -----  \n",
      " 0   uid               4264 non-null   int64  \n",
      " 1   age               4264 non-null   int64  \n",
      " 2   attraction_coeff  4264 non-null   int64  \n",
      " 3   coins             61 non-null     float64\n",
      " 4   country           4264 non-null   object \n",
      " 5   visit_days        2900 non-null   object \n",
      " 6   gender            4264 non-null   int64  \n",
      " 7   age_filter_start  4264 non-null   int64  \n",
      " 8   age_filter_end    4264 non-null   int64  \n",
      " 9   views_count       4264 non-null   int64  \n",
      " 10  was_premium       411 non-null    float64\n",
      " 11  is_premium        191 non-null    float64\n",
      " 12  total_revenue     4264 non-null   int64  \n",
      "dtypes: float64(3), int64(8), object(2)\n",
      "memory usage: 433.2+ KB\n"
     ]
    }
   ],
   "source": [
    "users_control2.info()\n",
    "#пропусков по обязательным полям нет, дополнительная фильтрация не нужна"
   ]
  },
  {
   "cell_type": "code",
   "execution_count": 270,
   "metadata": {},
   "outputs": [
    {
     "name": "stdout",
     "output_type": "stream",
     "text": [
      "Дубликатов uid: 0\n"
     ]
    }
   ],
   "source": [
    "print('Дубликатов uid:', users_control2.duplicated(subset='uid').sum())\n",
    "#все id пользователей уникальны, дополнительная фильтрация не нужна"
   ]
  },
  {
   "cell_type": "code",
   "execution_count": 271,
   "metadata": {},
   "outputs": [
    {
     "data": {
      "text/html": [
       "<div>\n",
       "<style scoped>\n",
       "    .dataframe tbody tr th:only-of-type {\n",
       "        vertical-align: middle;\n",
       "    }\n",
       "\n",
       "    .dataframe tbody tr th {\n",
       "        vertical-align: top;\n",
       "    }\n",
       "\n",
       "    .dataframe thead th {\n",
       "        text-align: right;\n",
       "    }\n",
       "</style>\n",
       "<table border=\"1\" class=\"dataframe\">\n",
       "  <thead>\n",
       "    <tr style=\"text-align: right;\">\n",
       "      <th></th>\n",
       "      <th>uid</th>\n",
       "      <th>country</th>\n",
       "      <th>joined_at</th>\n",
       "      <th>paid_at</th>\n",
       "      <th>revenue</th>\n",
       "      <th>payment_id</th>\n",
       "      <th>from_page</th>\n",
       "      <th>product_type</th>\n",
       "    </tr>\n",
       "  </thead>\n",
       "  <tbody>\n",
       "    <tr>\n",
       "      <th>0</th>\n",
       "      <td>891345942</td>\n",
       "      <td>Italy</td>\n",
       "      <td>2017-05-11 13:00:00</td>\n",
       "      <td>2017-11-13 15:04:00</td>\n",
       "      <td>12909</td>\n",
       "      <td>147</td>\n",
       "      <td>trial_vip_popup</td>\n",
       "      <td>trial_premium</td>\n",
       "    </tr>\n",
       "    <tr>\n",
       "      <th>1</th>\n",
       "      <td>892054251</td>\n",
       "      <td>United States of America</td>\n",
       "      <td>2017-10-22 00:33:00</td>\n",
       "      <td>2017-10-30 01:37:00</td>\n",
       "      <td>13923</td>\n",
       "      <td>147</td>\n",
       "      <td>trial_vip_popup</td>\n",
       "      <td>trial_premium</td>\n",
       "    </tr>\n",
       "    <tr>\n",
       "      <th>2</th>\n",
       "      <td>892236423</td>\n",
       "      <td>United States of America</td>\n",
       "      <td>2017-10-18 01:09:00</td>\n",
       "      <td>2017-10-23 00:15:00</td>\n",
       "      <td>3783</td>\n",
       "      <td>67</td>\n",
       "      <td>menu</td>\n",
       "      <td>other_type</td>\n",
       "    </tr>\n",
       "    <tr>\n",
       "      <th>3</th>\n",
       "      <td>892236423</td>\n",
       "      <td>United States of America</td>\n",
       "      <td>2017-10-18 01:09:00</td>\n",
       "      <td>2017-10-27 22:38:00</td>\n",
       "      <td>3783</td>\n",
       "      <td>67</td>\n",
       "      <td>menu</td>\n",
       "      <td>other_type</td>\n",
       "    </tr>\n",
       "    <tr>\n",
       "      <th>4</th>\n",
       "      <td>892168170</td>\n",
       "      <td>United States of America</td>\n",
       "      <td>2017-10-19 17:10:00</td>\n",
       "      <td>2017-10-27 19:10:00</td>\n",
       "      <td>9087</td>\n",
       "      <td>147</td>\n",
       "      <td>trial_vip_popup</td>\n",
       "      <td>trial_premium</td>\n",
       "    </tr>\n",
       "  </tbody>\n",
       "</table>\n",
       "</div>"
      ],
      "text/plain": [
       "         uid                   country            joined_at  \\\n",
       "0  891345942                     Italy  2017-05-11 13:00:00   \n",
       "1  892054251  United States of America  2017-10-22 00:33:00   \n",
       "2  892236423  United States of America  2017-10-18 01:09:00   \n",
       "3  892236423  United States of America  2017-10-18 01:09:00   \n",
       "4  892168170  United States of America  2017-10-19 17:10:00   \n",
       "\n",
       "               paid_at  revenue  payment_id        from_page   product_type  \n",
       "0  2017-11-13 15:04:00    12909         147  trial_vip_popup  trial_premium  \n",
       "1  2017-10-30 01:37:00    13923         147  trial_vip_popup  trial_premium  \n",
       "2  2017-10-23 00:15:00     3783          67             menu     other_type  \n",
       "3  2017-10-27 22:38:00     3783          67             menu     other_type  \n",
       "4  2017-10-27 19:10:00     9087         147  trial_vip_popup  trial_premium  "
      ]
     },
     "execution_count": 271,
     "metadata": {},
     "output_type": "execute_result"
    }
   ],
   "source": [
    "transactions_test.head()"
   ]
  },
  {
   "cell_type": "code",
   "execution_count": 272,
   "metadata": {},
   "outputs": [
    {
     "name": "stdout",
     "output_type": "stream",
     "text": [
      "<class 'pandas.core.frame.DataFrame'>\n",
      "RangeIndex: 273 entries, 0 to 272\n",
      "Data columns (total 8 columns):\n",
      " #   Column        Non-Null Count  Dtype \n",
      "---  ------        --------------  ----- \n",
      " 0   uid           273 non-null    int64 \n",
      " 1   country       273 non-null    object\n",
      " 2   joined_at     273 non-null    object\n",
      " 3   paid_at       273 non-null    object\n",
      " 4   revenue       273 non-null    int64 \n",
      " 5   payment_id    273 non-null    int64 \n",
      " 6   from_page     273 non-null    object\n",
      " 7   product_type  273 non-null    object\n",
      "dtypes: int64(3), object(5)\n",
      "memory usage: 17.2+ KB\n"
     ]
    }
   ],
   "source": [
    "transactions_test.info()\n",
    "#пропусков по обязательным полям нет, дополнительная фильтрация не нужна"
   ]
  },
  {
   "cell_type": "code",
   "execution_count": 273,
   "metadata": {},
   "outputs": [],
   "source": [
    "# Преобразуем нужные колонки к типу даты\n",
    "transactions = [transactions_test, transactions_control1, transactions_control2]\n",
    "for trans in transactions: \n",
    "    trans['joined_at'] = pd.to_datetime(trans['joined_at'])\n",
    "    trans['paid_at'] = pd.to_datetime(trans['paid_at'])"
   ]
  },
  {
   "cell_type": "code",
   "execution_count": 274,
   "metadata": {},
   "outputs": [
    {
     "name": "stdout",
     "output_type": "stream",
     "text": [
      "Дубликатов транзакций 7\n"
     ]
    }
   ],
   "source": [
    "print('Дубликатов транзакций', transactions_test.duplicated().sum())"
   ]
  },
  {
   "cell_type": "code",
   "execution_count": 275,
   "metadata": {},
   "outputs": [],
   "source": [
    "# 7 транзакций абсолютно одинаковые, почистим данные от них\n",
    "transactions_test = transactions_test.drop_duplicates()"
   ]
  },
  {
   "cell_type": "code",
   "execution_count": 276,
   "metadata": {},
   "outputs": [
    {
     "name": "stdout",
     "output_type": "stream",
     "text": [
      "<class 'pandas.core.frame.DataFrame'>\n",
      "Int64Index: 266 entries, 0 to 272\n",
      "Data columns (total 8 columns):\n",
      " #   Column        Non-Null Count  Dtype         \n",
      "---  ------        --------------  -----         \n",
      " 0   uid           266 non-null    int64         \n",
      " 1   country       266 non-null    object        \n",
      " 2   joined_at     266 non-null    datetime64[ns]\n",
      " 3   paid_at       266 non-null    datetime64[ns]\n",
      " 4   revenue       266 non-null    int64         \n",
      " 5   payment_id    266 non-null    int64         \n",
      " 6   from_page     266 non-null    object        \n",
      " 7   product_type  266 non-null    object        \n",
      "dtypes: datetime64[ns](2), int64(3), object(3)\n",
      "memory usage: 18.7+ KB\n"
     ]
    }
   ],
   "source": [
    "# проверим все ли мы убрали и преобразовали правильно\n",
    "transactions_test.info()"
   ]
  },
  {
   "cell_type": "code",
   "execution_count": 277,
   "metadata": {},
   "outputs": [
    {
     "name": "stdout",
     "output_type": "stream",
     "text": [
      "<class 'pandas.core.frame.DataFrame'>\n",
      "RangeIndex: 1007 entries, 0 to 1006\n",
      "Data columns (total 8 columns):\n",
      " #   Column        Non-Null Count  Dtype         \n",
      "---  ------        --------------  -----         \n",
      " 0   uid           377 non-null    float64       \n",
      " 1   country       377 non-null    object        \n",
      " 2   joined_at     377 non-null    datetime64[ns]\n",
      " 3   paid_at       377 non-null    datetime64[ns]\n",
      " 4   revenue       377 non-null    float64       \n",
      " 5   payment_id    377 non-null    float64       \n",
      " 6   from_page     377 non-null    object        \n",
      " 7   product_type  377 non-null    object        \n",
      "dtypes: datetime64[ns](2), float64(3), object(3)\n",
      "memory usage: 63.1+ KB\n"
     ]
    }
   ],
   "source": [
    "transactions_control1.info()\n",
    "# есть много пропусков по обязательным полям, нужно их убрать, и преобразовать даты"
   ]
  },
  {
   "cell_type": "code",
   "execution_count": 278,
   "metadata": {},
   "outputs": [
    {
     "data": {
      "text/plain": [
       "uid             630\n",
       "country         630\n",
       "joined_at       630\n",
       "paid_at         630\n",
       "revenue         630\n",
       "payment_id      630\n",
       "from_page       630\n",
       "product_type    630\n",
       "dtype: int64"
      ]
     },
     "execution_count": 278,
     "metadata": {},
     "output_type": "execute_result"
    }
   ],
   "source": [
    "transactions_control1.isna().sum()"
   ]
  },
  {
   "cell_type": "code",
   "execution_count": 279,
   "metadata": {},
   "outputs": [],
   "source": [
    "#Очищаем данные, удаляем строчки с пустыми uid\n",
    "transactions_control1 = transactions_control1.dropna(subset=['uid'])"
   ]
  },
  {
   "cell_type": "code",
   "execution_count": 280,
   "metadata": {},
   "outputs": [
    {
     "name": "stdout",
     "output_type": "stream",
     "text": [
      "Дубликатов транзакций 21\n"
     ]
    }
   ],
   "source": [
    "print('Дубликатов транзакций', transactions_control1.duplicated().sum())"
   ]
  },
  {
   "cell_type": "code",
   "execution_count": 281,
   "metadata": {},
   "outputs": [],
   "source": [
    "# 20 транзакций абсолютно одинаковые, почистим данные от них\n",
    "transactions_control1 = transactions_control1.drop_duplicates()"
   ]
  },
  {
   "cell_type": "code",
   "execution_count": 282,
   "metadata": {},
   "outputs": [
    {
     "data": {
      "text/plain": [
       "coins               101\n",
       "premium_no_trial     76\n",
       "trial_premium        62\n",
       "other_type           27\n",
       "Name: product_type, dtype: int64"
      ]
     },
     "execution_count": 282,
     "metadata": {},
     "output_type": "execute_result"
    }
   ],
   "source": [
    "transactions_test.product_type.value_counts()"
   ]
  },
  {
   "cell_type": "code",
   "execution_count": 283,
   "metadata": {},
   "outputs": [
    {
     "name": "stdout",
     "output_type": "stream",
     "text": [
      "<class 'pandas.core.frame.DataFrame'>\n",
      "Int64Index: 356 entries, 0 to 376\n",
      "Data columns (total 8 columns):\n",
      " #   Column        Non-Null Count  Dtype         \n",
      "---  ------        --------------  -----         \n",
      " 0   uid           356 non-null    float64       \n",
      " 1   country       356 non-null    object        \n",
      " 2   joined_at     356 non-null    datetime64[ns]\n",
      " 3   paid_at       356 non-null    datetime64[ns]\n",
      " 4   revenue       356 non-null    float64       \n",
      " 5   payment_id    356 non-null    float64       \n",
      " 6   from_page     356 non-null    object        \n",
      " 7   product_type  356 non-null    object        \n",
      "dtypes: datetime64[ns](2), float64(3), object(3)\n",
      "memory usage: 25.0+ KB\n"
     ]
    }
   ],
   "source": [
    "# проверим все ли мы убрали и преобразовали правильно\n",
    "transactions_control1.info()"
   ]
  },
  {
   "cell_type": "code",
   "execution_count": 284,
   "metadata": {},
   "outputs": [
    {
     "data": {
      "text/plain": [
       "coins               137\n",
       "premium_no_trial    106\n",
       "trial_premium        67\n",
       "other_type           46\n",
       "Name: product_type, dtype: int64"
      ]
     },
     "execution_count": 284,
     "metadata": {},
     "output_type": "execute_result"
    }
   ],
   "source": [
    "transactions_control1.product_type.value_counts()"
   ]
  },
  {
   "cell_type": "code",
   "execution_count": 285,
   "metadata": {},
   "outputs": [
    {
     "name": "stdout",
     "output_type": "stream",
     "text": [
      "<class 'pandas.core.frame.DataFrame'>\n",
      "RangeIndex: 328 entries, 0 to 327\n",
      "Data columns (total 8 columns):\n",
      " #   Column        Non-Null Count  Dtype         \n",
      "---  ------        --------------  -----         \n",
      " 0   uid           328 non-null    int64         \n",
      " 1   country       328 non-null    object        \n",
      " 2   joined_at     328 non-null    datetime64[ns]\n",
      " 3   paid_at       328 non-null    datetime64[ns]\n",
      " 4   revenue       328 non-null    int64         \n",
      " 5   payment_id    328 non-null    int64         \n",
      " 6   from_page     328 non-null    object        \n",
      " 7   product_type  328 non-null    object        \n",
      "dtypes: datetime64[ns](2), int64(3), object(3)\n",
      "memory usage: 20.6+ KB\n"
     ]
    }
   ],
   "source": [
    "transactions_control2.info()\n",
    "# пропусков по обязательным полям нет, нужно только преобразовать даты"
   ]
  },
  {
   "cell_type": "markdown",
   "metadata": {},
   "source": [
    "По условию в эксперимент должны попадать только новые пользователи, поэтому во всех группах дата, когда присоединился пользователь должна быть не раньше даты начала эксперимента"
   ]
  },
  {
   "cell_type": "code",
   "execution_count": 286,
   "metadata": {},
   "outputs": [
    {
     "name": "stdout",
     "output_type": "stream",
     "text": [
      "min date 2017-01-11 03:07:00, max date 2017-10-31 23:40:00\n",
      "min date 2015-01-19 11:49:00, max date 2017-10-31 22:17:00\n",
      "min date 2017-01-11 08:36:00, max date 2017-10-31 17:43:00\n"
     ]
    }
   ],
   "source": [
    "for trans in transactions:\n",
    "    print(f\"min date {trans['joined_at'].min()}, max date {trans['joined_at'].max()}\")"
   ]
  },
  {
   "cell_type": "markdown",
   "metadata": {},
   "source": [
    "Дата начала эксперимента: 2017-01-11\n",
    "\n",
    "Дата окончания набора пользователей в эксперимент: 2017-10-31\n"
   ]
  },
  {
   "cell_type": "code",
   "execution_count": 287,
   "metadata": {},
   "outputs": [],
   "source": [
    "# Убираем пользователей, которые пришли раньше даты начала эксперимента (2017-01-11)\n",
    "# Создаем маску для ID, которые нужно удалить\n",
    "mask = users_control1['uid'].isin(transactions_control1[transactions_control1.joined_at < '2017-01-11 00:00:00'].uid)\n",
    "# Удаляем пользователей, которые не участвуют в эксперименте\n",
    "users_control1 = users_control1[~mask]\n",
    "transactions_control1 = transactions_control1[transactions_control1.joined_at >= '2017-01-11 00:00:00']"
   ]
  },
  {
   "cell_type": "code",
   "execution_count": 288,
   "metadata": {},
   "outputs": [
    {
     "data": {
      "text/html": [
       "<div>\n",
       "<style scoped>\n",
       "    .dataframe tbody tr th:only-of-type {\n",
       "        vertical-align: middle;\n",
       "    }\n",
       "\n",
       "    .dataframe tbody tr th {\n",
       "        vertical-align: top;\n",
       "    }\n",
       "\n",
       "    .dataframe thead th {\n",
       "        text-align: right;\n",
       "    }\n",
       "</style>\n",
       "<table border=\"1\" class=\"dataframe\">\n",
       "  <thead>\n",
       "    <tr style=\"text-align: right;\">\n",
       "      <th></th>\n",
       "      <th>uid</th>\n",
       "      <th>country</th>\n",
       "      <th>joined_at</th>\n",
       "      <th>paid_at</th>\n",
       "      <th>revenue</th>\n",
       "      <th>payment_id</th>\n",
       "      <th>from_page</th>\n",
       "      <th>product_type</th>\n",
       "    </tr>\n",
       "  </thead>\n",
       "  <tbody>\n",
       "    <tr>\n",
       "      <th>5</th>\n",
       "      <td>891721851.0</td>\n",
       "      <td>United States of America</td>\n",
       "      <td>2017-10-29 02:50:00</td>\n",
       "      <td>2017-05-11 07:15:00</td>\n",
       "      <td>4602.0</td>\n",
       "      <td>146.0</td>\n",
       "      <td>empty_likes</td>\n",
       "      <td>coins</td>\n",
       "    </tr>\n",
       "    <tr>\n",
       "      <th>14</th>\n",
       "      <td>892277877.0</td>\n",
       "      <td>United States of America</td>\n",
       "      <td>2017-10-17 03:36:00</td>\n",
       "      <td>2017-10-11 15:23:00</td>\n",
       "      <td>897.0</td>\n",
       "      <td>19.0</td>\n",
       "      <td>empty_likes</td>\n",
       "      <td>coins</td>\n",
       "    </tr>\n",
       "    <tr>\n",
       "      <th>20</th>\n",
       "      <td>892366260.0</td>\n",
       "      <td>United Kingdom (Great Britain)</td>\n",
       "      <td>2017-10-15 15:04:00</td>\n",
       "      <td>2017-09-11 20:06:00</td>\n",
       "      <td>6305.0</td>\n",
       "      <td>19.0</td>\n",
       "      <td>autorefill</td>\n",
       "      <td>coins</td>\n",
       "    </tr>\n",
       "    <tr>\n",
       "      <th>21</th>\n",
       "      <td>891707061.0</td>\n",
       "      <td>Argentina</td>\n",
       "      <td>2017-10-29 10:54:00</td>\n",
       "      <td>2017-04-11 00:30:00</td>\n",
       "      <td>1261.0</td>\n",
       "      <td>19.0</td>\n",
       "      <td>empty_likes</td>\n",
       "      <td>coins</td>\n",
       "    </tr>\n",
       "    <tr>\n",
       "      <th>23</th>\n",
       "      <td>891707061.0</td>\n",
       "      <td>Argentina</td>\n",
       "      <td>2017-10-29 10:54:00</td>\n",
       "      <td>2017-10-11 00:04:00</td>\n",
       "      <td>1261.0</td>\n",
       "      <td>19.0</td>\n",
       "      <td>autorefill</td>\n",
       "      <td>coins</td>\n",
       "    </tr>\n",
       "    <tr>\n",
       "      <th>24</th>\n",
       "      <td>892207959.0</td>\n",
       "      <td>France</td>\n",
       "      <td>2017-10-18 18:30:00</td>\n",
       "      <td>2017-01-11 04:39:00</td>\n",
       "      <td>1261.0</td>\n",
       "      <td>19.0</td>\n",
       "      <td>empty_likes</td>\n",
       "      <td>coins</td>\n",
       "    </tr>\n",
       "    <tr>\n",
       "      <th>32</th>\n",
       "      <td>891671796.0</td>\n",
       "      <td>Canada</td>\n",
       "      <td>2017-10-29 22:06:00</td>\n",
       "      <td>2017-06-11 00:06:00</td>\n",
       "      <td>9854.0</td>\n",
       "      <td>147.0</td>\n",
       "      <td>trial_vip_popup</td>\n",
       "      <td>trial_premium</td>\n",
       "    </tr>\n",
       "    <tr>\n",
       "      <th>51</th>\n",
       "      <td>891707061.0</td>\n",
       "      <td>Argentina</td>\n",
       "      <td>2017-10-29 10:54:00</td>\n",
       "      <td>2017-07-11 23:53:00</td>\n",
       "      <td>1261.0</td>\n",
       "      <td>19.0</td>\n",
       "      <td>menu</td>\n",
       "      <td>coins</td>\n",
       "    </tr>\n",
       "    <tr>\n",
       "      <th>54</th>\n",
       "      <td>891850512.0</td>\n",
       "      <td>Portugal</td>\n",
       "      <td>2017-10-26 10:34:00</td>\n",
       "      <td>2017-02-11 13:43:00</td>\n",
       "      <td>5577.0</td>\n",
       "      <td>147.0</td>\n",
       "      <td>trial_vip_popup</td>\n",
       "      <td>trial_premium</td>\n",
       "    </tr>\n",
       "    <tr>\n",
       "      <th>59</th>\n",
       "      <td>891693753.0</td>\n",
       "      <td>Turkey</td>\n",
       "      <td>2017-10-29 15:24:00</td>\n",
       "      <td>2017-04-11 20:45:00</td>\n",
       "      <td>5304.0</td>\n",
       "      <td>19.0</td>\n",
       "      <td>empty_likes</td>\n",
       "      <td>coins</td>\n",
       "    </tr>\n",
       "    <tr>\n",
       "      <th>61</th>\n",
       "      <td>891870786.0</td>\n",
       "      <td>Italy</td>\n",
       "      <td>2017-10-25 22:08:00</td>\n",
       "      <td>2017-04-11 16:19:00</td>\n",
       "      <td>1261.0</td>\n",
       "      <td>19.0</td>\n",
       "      <td>fans</td>\n",
       "      <td>coins</td>\n",
       "    </tr>\n",
       "    <tr>\n",
       "      <th>66</th>\n",
       "      <td>891822480.0</td>\n",
       "      <td>Italy</td>\n",
       "      <td>2017-10-26 22:27:00</td>\n",
       "      <td>2017-01-11 16:50:00</td>\n",
       "      <td>1898.0</td>\n",
       "      <td>19.0</td>\n",
       "      <td>none</td>\n",
       "      <td>coins</td>\n",
       "    </tr>\n",
       "    <tr>\n",
       "      <th>72</th>\n",
       "      <td>892136748.0</td>\n",
       "      <td>France</td>\n",
       "      <td>2017-10-20 10:32:00</td>\n",
       "      <td>2017-06-11 10:54:00</td>\n",
       "      <td>2821.0</td>\n",
       "      <td>19.0</td>\n",
       "      <td>none</td>\n",
       "      <td>coins</td>\n",
       "    </tr>\n",
       "    <tr>\n",
       "      <th>73</th>\n",
       "      <td>891870786.0</td>\n",
       "      <td>Italy</td>\n",
       "      <td>2017-10-25 22:08:00</td>\n",
       "      <td>2017-04-11 17:12:00</td>\n",
       "      <td>1261.0</td>\n",
       "      <td>19.0</td>\n",
       "      <td>autorefill</td>\n",
       "      <td>coins</td>\n",
       "    </tr>\n",
       "    <tr>\n",
       "      <th>77</th>\n",
       "      <td>892290105.0</td>\n",
       "      <td>United States of America</td>\n",
       "      <td>2017-10-16 22:03:00</td>\n",
       "      <td>2017-10-11 17:18:00</td>\n",
       "      <td>1261.0</td>\n",
       "      <td>19.0</td>\n",
       "      <td>empty_likes</td>\n",
       "      <td>coins</td>\n",
       "    </tr>\n",
       "    <tr>\n",
       "      <th>79</th>\n",
       "      <td>892277877.0</td>\n",
       "      <td>United States of America</td>\n",
       "      <td>2017-10-17 03:36:00</td>\n",
       "      <td>2017-10-11 15:22:00</td>\n",
       "      <td>897.0</td>\n",
       "      <td>146.0</td>\n",
       "      <td>empty_likes</td>\n",
       "      <td>coins</td>\n",
       "    </tr>\n",
       "    <tr>\n",
       "      <th>87</th>\n",
       "      <td>891881343.0</td>\n",
       "      <td>United States of America</td>\n",
       "      <td>2017-10-25 17:58:00</td>\n",
       "      <td>2017-01-11 21:08:00</td>\n",
       "      <td>12727.0</td>\n",
       "      <td>147.0</td>\n",
       "      <td>dating</td>\n",
       "      <td>trial_premium</td>\n",
       "    </tr>\n",
       "    <tr>\n",
       "      <th>90</th>\n",
       "      <td>892310253.0</td>\n",
       "      <td>Israel</td>\n",
       "      <td>2017-10-16 14:50:00</td>\n",
       "      <td>2017-02-11 20:58:00</td>\n",
       "      <td>6292.0</td>\n",
       "      <td>147.0</td>\n",
       "      <td>left_sidebar_menu</td>\n",
       "      <td>premium_no_trial</td>\n",
       "    </tr>\n",
       "    <tr>\n",
       "      <th>94</th>\n",
       "      <td>891662499.0</td>\n",
       "      <td>United Kingdom (Great Britain)</td>\n",
       "      <td>2017-10-30 00:57:00</td>\n",
       "      <td>2017-09-11 02:21:00</td>\n",
       "      <td>6292.0</td>\n",
       "      <td>147.0</td>\n",
       "      <td>popular_users_block</td>\n",
       "      <td>premium_no_trial</td>\n",
       "    </tr>\n",
       "    <tr>\n",
       "      <th>100</th>\n",
       "      <td>892421277.0</td>\n",
       "      <td>United States of America</td>\n",
       "      <td>2017-10-14 13:05:00</td>\n",
       "      <td>2017-02-11 02:12:00</td>\n",
       "      <td>12610.0</td>\n",
       "      <td>19.0</td>\n",
       "      <td>empty_likes</td>\n",
       "      <td>coins</td>\n",
       "    </tr>\n",
       "    <tr>\n",
       "      <th>104</th>\n",
       "      <td>891707061.0</td>\n",
       "      <td>Argentina</td>\n",
       "      <td>2017-10-29 10:54:00</td>\n",
       "      <td>2017-03-11 00:05:00</td>\n",
       "      <td>6292.0</td>\n",
       "      <td>147.0</td>\n",
       "      <td>promo_09</td>\n",
       "      <td>premium_no_trial</td>\n",
       "    </tr>\n",
       "    <tr>\n",
       "      <th>124</th>\n",
       "      <td>892136748.0</td>\n",
       "      <td>France</td>\n",
       "      <td>2017-10-20 10:32:00</td>\n",
       "      <td>2017-01-11 04:10:00</td>\n",
       "      <td>2834.0</td>\n",
       "      <td>19.0</td>\n",
       "      <td>none</td>\n",
       "      <td>coins</td>\n",
       "    </tr>\n",
       "    <tr>\n",
       "      <th>128</th>\n",
       "      <td>892116756.0</td>\n",
       "      <td>Canada</td>\n",
       "      <td>2017-10-20 20:09:00</td>\n",
       "      <td>2017-06-11 13:39:00</td>\n",
       "      <td>6305.0</td>\n",
       "      <td>19.0</td>\n",
       "      <td>autorefill</td>\n",
       "      <td>coins</td>\n",
       "    </tr>\n",
       "    <tr>\n",
       "      <th>133</th>\n",
       "      <td>891653790.0</td>\n",
       "      <td>Italy</td>\n",
       "      <td>2017-10-30 06:17:00</td>\n",
       "      <td>2017-09-11 12:45:00</td>\n",
       "      <td>728.0</td>\n",
       "      <td>146.0</td>\n",
       "      <td>empty_likes</td>\n",
       "      <td>coins</td>\n",
       "    </tr>\n",
       "    <tr>\n",
       "      <th>147</th>\n",
       "      <td>891568008.0</td>\n",
       "      <td>Argentina</td>\n",
       "      <td>2017-10-31 22:17:00</td>\n",
       "      <td>2017-08-11 00:41:00</td>\n",
       "      <td>10569.0</td>\n",
       "      <td>147.0</td>\n",
       "      <td>trial_vip_popup</td>\n",
       "      <td>trial_premium</td>\n",
       "    </tr>\n",
       "    <tr>\n",
       "      <th>150</th>\n",
       "      <td>891851568.0</td>\n",
       "      <td>United Arab Emirates</td>\n",
       "      <td>2017-10-26 10:02:00</td>\n",
       "      <td>2017-02-11 12:15:00</td>\n",
       "      <td>10153.0</td>\n",
       "      <td>147.0</td>\n",
       "      <td>trial_vip_popup</td>\n",
       "      <td>trial_premium</td>\n",
       "    </tr>\n",
       "    <tr>\n",
       "      <th>161</th>\n",
       "      <td>891583611.0</td>\n",
       "      <td>Spain</td>\n",
       "      <td>2017-10-31 16:30:00</td>\n",
       "      <td>2017-07-11 19:13:00</td>\n",
       "      <td>16536.0</td>\n",
       "      <td>147.0</td>\n",
       "      <td>none</td>\n",
       "      <td>trial_premium</td>\n",
       "    </tr>\n",
       "    <tr>\n",
       "      <th>173</th>\n",
       "      <td>892207959.0</td>\n",
       "      <td>France</td>\n",
       "      <td>2017-10-18 18:30:00</td>\n",
       "      <td>2017-01-11 04:38:00</td>\n",
       "      <td>1261.0</td>\n",
       "      <td>19.0</td>\n",
       "      <td>empty_likes</td>\n",
       "      <td>coins</td>\n",
       "    </tr>\n",
       "    <tr>\n",
       "      <th>187</th>\n",
       "      <td>891707061.0</td>\n",
       "      <td>Argentina</td>\n",
       "      <td>2017-10-29 10:54:00</td>\n",
       "      <td>2017-10-11 13:14:00</td>\n",
       "      <td>1261.0</td>\n",
       "      <td>19.0</td>\n",
       "      <td>empty_likes</td>\n",
       "      <td>coins</td>\n",
       "    </tr>\n",
       "    <tr>\n",
       "      <th>190</th>\n",
       "      <td>891765819.0</td>\n",
       "      <td>Italy</td>\n",
       "      <td>2017-10-28 04:24:00</td>\n",
       "      <td>2017-08-11 00:32:00</td>\n",
       "      <td>6422.0</td>\n",
       "      <td>147.0</td>\n",
       "      <td>left_sidebar_menu</td>\n",
       "      <td>premium_no_trial</td>\n",
       "    </tr>\n",
       "    <tr>\n",
       "      <th>192</th>\n",
       "      <td>892120956.0</td>\n",
       "      <td>Belgium</td>\n",
       "      <td>2017-10-20 18:20:00</td>\n",
       "      <td>2017-05-11 13:43:00</td>\n",
       "      <td>3042.0</td>\n",
       "      <td>68.0</td>\n",
       "      <td>none</td>\n",
       "      <td>premium_no_trial</td>\n",
       "    </tr>\n",
       "    <tr>\n",
       "      <th>199</th>\n",
       "      <td>891675147.0</td>\n",
       "      <td>United States of America</td>\n",
       "      <td>2017-10-29 21:04:00</td>\n",
       "      <td>2017-05-11 23:04:00</td>\n",
       "      <td>9087.0</td>\n",
       "      <td>147.0</td>\n",
       "      <td>trial_vip_popup</td>\n",
       "      <td>trial_premium</td>\n",
       "    </tr>\n",
       "    <tr>\n",
       "      <th>201</th>\n",
       "      <td>892069554.0</td>\n",
       "      <td>United Kingdom (Great Britain)</td>\n",
       "      <td>2017-10-21 19:11:00</td>\n",
       "      <td>2017-08-11 01:47:00</td>\n",
       "      <td>6305.0</td>\n",
       "      <td>19.0</td>\n",
       "      <td>empty_likes</td>\n",
       "      <td>coins</td>\n",
       "    </tr>\n",
       "    <tr>\n",
       "      <th>213</th>\n",
       "      <td>891662499.0</td>\n",
       "      <td>United Kingdom (Great Britain)</td>\n",
       "      <td>2017-10-30 00:57:00</td>\n",
       "      <td>2017-10-11 19:42:00</td>\n",
       "      <td>3783.0</td>\n",
       "      <td>67.0</td>\n",
       "      <td>fans</td>\n",
       "      <td>other_type</td>\n",
       "    </tr>\n",
       "    <tr>\n",
       "      <th>214</th>\n",
       "      <td>892069554.0</td>\n",
       "      <td>United Kingdom (Great Britain)</td>\n",
       "      <td>2017-10-21 19:11:00</td>\n",
       "      <td>2017-03-11 10:44:00</td>\n",
       "      <td>6305.0</td>\n",
       "      <td>19.0</td>\n",
       "      <td>empty_likes</td>\n",
       "      <td>coins</td>\n",
       "    </tr>\n",
       "    <tr>\n",
       "      <th>226</th>\n",
       "      <td>891707061.0</td>\n",
       "      <td>Argentina</td>\n",
       "      <td>2017-10-29 10:54:00</td>\n",
       "      <td>2017-10-11 13:14:00</td>\n",
       "      <td>1261.0</td>\n",
       "      <td>19.0</td>\n",
       "      <td>autorefill</td>\n",
       "      <td>coins</td>\n",
       "    </tr>\n",
       "    <tr>\n",
       "      <th>243</th>\n",
       "      <td>891616074.0</td>\n",
       "      <td>Italy</td>\n",
       "      <td>2017-10-30 22:57:00</td>\n",
       "      <td>2017-04-11 04:45:00</td>\n",
       "      <td>6292.0</td>\n",
       "      <td>147.0</td>\n",
       "      <td>autoreply_message</td>\n",
       "      <td>premium_no_trial</td>\n",
       "    </tr>\n",
       "    <tr>\n",
       "      <th>247</th>\n",
       "      <td>891721851.0</td>\n",
       "      <td>United States of America</td>\n",
       "      <td>2017-10-29 02:50:00</td>\n",
       "      <td>2017-06-11 07:23:00</td>\n",
       "      <td>9087.0</td>\n",
       "      <td>147.0</td>\n",
       "      <td>trial_vip_popup</td>\n",
       "      <td>trial_premium</td>\n",
       "    </tr>\n",
       "    <tr>\n",
       "      <th>254</th>\n",
       "      <td>891908385.0</td>\n",
       "      <td>Argentina</td>\n",
       "      <td>2017-10-25 02:33:00</td>\n",
       "      <td>2017-01-11 04:34:00</td>\n",
       "      <td>10686.0</td>\n",
       "      <td>147.0</td>\n",
       "      <td>trial_vip_popup</td>\n",
       "      <td>trial_premium</td>\n",
       "    </tr>\n",
       "    <tr>\n",
       "      <th>262</th>\n",
       "      <td>891822480.0</td>\n",
       "      <td>Italy</td>\n",
       "      <td>2017-10-26 22:27:00</td>\n",
       "      <td>2017-07-11 00:04:00</td>\n",
       "      <td>6292.0</td>\n",
       "      <td>147.0</td>\n",
       "      <td>promo_09</td>\n",
       "      <td>premium_no_trial</td>\n",
       "    </tr>\n",
       "    <tr>\n",
       "      <th>263</th>\n",
       "      <td>891648354.0</td>\n",
       "      <td>United Kingdom (Great Britain)</td>\n",
       "      <td>2017-10-30 09:48:00</td>\n",
       "      <td>2017-07-11 11:48:00</td>\n",
       "      <td>10439.0</td>\n",
       "      <td>147.0</td>\n",
       "      <td>trial_vip_popup</td>\n",
       "      <td>trial_premium</td>\n",
       "    </tr>\n",
       "    <tr>\n",
       "      <th>272</th>\n",
       "      <td>891705120.0</td>\n",
       "      <td>United States of America</td>\n",
       "      <td>2017-10-29 11:39:00</td>\n",
       "      <td>2017-05-11 14:16:00</td>\n",
       "      <td>9087.0</td>\n",
       "      <td>147.0</td>\n",
       "      <td>trial_vip_popup</td>\n",
       "      <td>trial_premium</td>\n",
       "    </tr>\n",
       "    <tr>\n",
       "      <th>275</th>\n",
       "      <td>891719682.0</td>\n",
       "      <td>France</td>\n",
       "      <td>2017-10-29 04:47:00</td>\n",
       "      <td>2017-05-11 10:45:00</td>\n",
       "      <td>12662.0</td>\n",
       "      <td>147.0</td>\n",
       "      <td>trial_vip_popup</td>\n",
       "      <td>trial_premium</td>\n",
       "    </tr>\n",
       "    <tr>\n",
       "      <th>276</th>\n",
       "      <td>891870786.0</td>\n",
       "      <td>Italy</td>\n",
       "      <td>2017-10-25 22:08:00</td>\n",
       "      <td>2017-04-11 16:17:00</td>\n",
       "      <td>3783.0</td>\n",
       "      <td>67.0</td>\n",
       "      <td>fans</td>\n",
       "      <td>other_type</td>\n",
       "    </tr>\n",
       "    <tr>\n",
       "      <th>291</th>\n",
       "      <td>891645606.0</td>\n",
       "      <td>Argentina</td>\n",
       "      <td>2017-10-30 11:22:00</td>\n",
       "      <td>2017-06-11 13:54:00</td>\n",
       "      <td>10556.0</td>\n",
       "      <td>147.0</td>\n",
       "      <td>trial_vip_popup</td>\n",
       "      <td>trial_premium</td>\n",
       "    </tr>\n",
       "    <tr>\n",
       "      <th>293</th>\n",
       "      <td>891580347.0</td>\n",
       "      <td>United States of America</td>\n",
       "      <td>2017-10-31 17:51:00</td>\n",
       "      <td>2017-07-11 19:51:00</td>\n",
       "      <td>13468.0</td>\n",
       "      <td>147.0</td>\n",
       "      <td>trial_vip_popup</td>\n",
       "      <td>trial_premium</td>\n",
       "    </tr>\n",
       "    <tr>\n",
       "      <th>299</th>\n",
       "      <td>891870786.0</td>\n",
       "      <td>Italy</td>\n",
       "      <td>2017-10-25 22:08:00</td>\n",
       "      <td>2017-04-11 16:08:00</td>\n",
       "      <td>6292.0</td>\n",
       "      <td>147.0</td>\n",
       "      <td>fans</td>\n",
       "      <td>premium_no_trial</td>\n",
       "    </tr>\n",
       "    <tr>\n",
       "      <th>321</th>\n",
       "      <td>892277877.0</td>\n",
       "      <td>United States of America</td>\n",
       "      <td>2017-10-17 03:36:00</td>\n",
       "      <td>2017-10-11 15:21:00</td>\n",
       "      <td>2730.0</td>\n",
       "      <td>67.0</td>\n",
       "      <td>empty_likes</td>\n",
       "      <td>other_type</td>\n",
       "    </tr>\n",
       "    <tr>\n",
       "      <th>327</th>\n",
       "      <td>891622389.0</td>\n",
       "      <td>Canada</td>\n",
       "      <td>2017-10-30 20:37:00</td>\n",
       "      <td>2017-04-11 03:15:00</td>\n",
       "      <td>767.0</td>\n",
       "      <td>146.0</td>\n",
       "      <td>fans</td>\n",
       "      <td>coins</td>\n",
       "    </tr>\n",
       "    <tr>\n",
       "      <th>337</th>\n",
       "      <td>891693753.0</td>\n",
       "      <td>Turkey</td>\n",
       "      <td>2017-10-29 15:24:00</td>\n",
       "      <td>2017-06-11 22:30:00</td>\n",
       "      <td>3432.0</td>\n",
       "      <td>147.0</td>\n",
       "      <td>promo_09</td>\n",
       "      <td>premium_no_trial</td>\n",
       "    </tr>\n",
       "    <tr>\n",
       "      <th>340</th>\n",
       "      <td>891973917.0</td>\n",
       "      <td>France</td>\n",
       "      <td>2017-10-23 18:31:00</td>\n",
       "      <td>2017-02-11 19:03:00</td>\n",
       "      <td>6344.0</td>\n",
       "      <td>147.0</td>\n",
       "      <td>promo_09</td>\n",
       "      <td>premium_no_trial</td>\n",
       "    </tr>\n",
       "    <tr>\n",
       "      <th>345</th>\n",
       "      <td>891679842.0</td>\n",
       "      <td>United Arab Emirates</td>\n",
       "      <td>2017-10-29 19:44:00</td>\n",
       "      <td>2017-05-11 21:51:00</td>\n",
       "      <td>13247.0</td>\n",
       "      <td>147.0</td>\n",
       "      <td>autoreply_message</td>\n",
       "      <td>trial_premium</td>\n",
       "    </tr>\n",
       "    <tr>\n",
       "      <th>355</th>\n",
       "      <td>891972303.0</td>\n",
       "      <td>United Arab Emirates</td>\n",
       "      <td>2017-10-23 19:06:00</td>\n",
       "      <td>2017-05-11 18:18:00</td>\n",
       "      <td>4914.0</td>\n",
       "      <td>147.0</td>\n",
       "      <td>promo_09</td>\n",
       "      <td>premium_no_trial</td>\n",
       "    </tr>\n",
       "    <tr>\n",
       "      <th>360</th>\n",
       "      <td>892069554.0</td>\n",
       "      <td>United Kingdom (Great Britain)</td>\n",
       "      <td>2017-10-21 19:11:00</td>\n",
       "      <td>2017-03-11 10:44:00</td>\n",
       "      <td>3783.0</td>\n",
       "      <td>67.0</td>\n",
       "      <td>empty_likes</td>\n",
       "      <td>other_type</td>\n",
       "    </tr>\n",
       "    <tr>\n",
       "      <th>374</th>\n",
       "      <td>892145004.0</td>\n",
       "      <td>Chile</td>\n",
       "      <td>2017-10-20 04:25:00</td>\n",
       "      <td>2017-01-11 02:56:00</td>\n",
       "      <td>9919.0</td>\n",
       "      <td>147.0</td>\n",
       "      <td>trial_vip_popup</td>\n",
       "      <td>trial_premium</td>\n",
       "    </tr>\n",
       "  </tbody>\n",
       "</table>\n",
       "</div>"
      ],
      "text/plain": [
       "             uid                         country           joined_at  \\\n",
       "5    891721851.0        United States of America 2017-10-29 02:50:00   \n",
       "14   892277877.0        United States of America 2017-10-17 03:36:00   \n",
       "20   892366260.0  United Kingdom (Great Britain) 2017-10-15 15:04:00   \n",
       "21   891707061.0                       Argentina 2017-10-29 10:54:00   \n",
       "23   891707061.0                       Argentina 2017-10-29 10:54:00   \n",
       "24   892207959.0                          France 2017-10-18 18:30:00   \n",
       "32   891671796.0                          Canada 2017-10-29 22:06:00   \n",
       "51   891707061.0                       Argentina 2017-10-29 10:54:00   \n",
       "54   891850512.0                        Portugal 2017-10-26 10:34:00   \n",
       "59   891693753.0                          Turkey 2017-10-29 15:24:00   \n",
       "61   891870786.0                           Italy 2017-10-25 22:08:00   \n",
       "66   891822480.0                           Italy 2017-10-26 22:27:00   \n",
       "72   892136748.0                          France 2017-10-20 10:32:00   \n",
       "73   891870786.0                           Italy 2017-10-25 22:08:00   \n",
       "77   892290105.0        United States of America 2017-10-16 22:03:00   \n",
       "79   892277877.0        United States of America 2017-10-17 03:36:00   \n",
       "87   891881343.0        United States of America 2017-10-25 17:58:00   \n",
       "90   892310253.0                          Israel 2017-10-16 14:50:00   \n",
       "94   891662499.0  United Kingdom (Great Britain) 2017-10-30 00:57:00   \n",
       "100  892421277.0        United States of America 2017-10-14 13:05:00   \n",
       "104  891707061.0                       Argentina 2017-10-29 10:54:00   \n",
       "124  892136748.0                          France 2017-10-20 10:32:00   \n",
       "128  892116756.0                          Canada 2017-10-20 20:09:00   \n",
       "133  891653790.0                           Italy 2017-10-30 06:17:00   \n",
       "147  891568008.0                       Argentina 2017-10-31 22:17:00   \n",
       "150  891851568.0            United Arab Emirates 2017-10-26 10:02:00   \n",
       "161  891583611.0                           Spain 2017-10-31 16:30:00   \n",
       "173  892207959.0                          France 2017-10-18 18:30:00   \n",
       "187  891707061.0                       Argentina 2017-10-29 10:54:00   \n",
       "190  891765819.0                           Italy 2017-10-28 04:24:00   \n",
       "192  892120956.0                         Belgium 2017-10-20 18:20:00   \n",
       "199  891675147.0        United States of America 2017-10-29 21:04:00   \n",
       "201  892069554.0  United Kingdom (Great Britain) 2017-10-21 19:11:00   \n",
       "213  891662499.0  United Kingdom (Great Britain) 2017-10-30 00:57:00   \n",
       "214  892069554.0  United Kingdom (Great Britain) 2017-10-21 19:11:00   \n",
       "226  891707061.0                       Argentina 2017-10-29 10:54:00   \n",
       "243  891616074.0                           Italy 2017-10-30 22:57:00   \n",
       "247  891721851.0        United States of America 2017-10-29 02:50:00   \n",
       "254  891908385.0                       Argentina 2017-10-25 02:33:00   \n",
       "262  891822480.0                           Italy 2017-10-26 22:27:00   \n",
       "263  891648354.0  United Kingdom (Great Britain) 2017-10-30 09:48:00   \n",
       "272  891705120.0        United States of America 2017-10-29 11:39:00   \n",
       "275  891719682.0                          France 2017-10-29 04:47:00   \n",
       "276  891870786.0                           Italy 2017-10-25 22:08:00   \n",
       "291  891645606.0                       Argentina 2017-10-30 11:22:00   \n",
       "293  891580347.0        United States of America 2017-10-31 17:51:00   \n",
       "299  891870786.0                           Italy 2017-10-25 22:08:00   \n",
       "321  892277877.0        United States of America 2017-10-17 03:36:00   \n",
       "327  891622389.0                          Canada 2017-10-30 20:37:00   \n",
       "337  891693753.0                          Turkey 2017-10-29 15:24:00   \n",
       "340  891973917.0                          France 2017-10-23 18:31:00   \n",
       "345  891679842.0            United Arab Emirates 2017-10-29 19:44:00   \n",
       "355  891972303.0            United Arab Emirates 2017-10-23 19:06:00   \n",
       "360  892069554.0  United Kingdom (Great Britain) 2017-10-21 19:11:00   \n",
       "374  892145004.0                           Chile 2017-10-20 04:25:00   \n",
       "\n",
       "                paid_at  revenue  payment_id            from_page  \\\n",
       "5   2017-05-11 07:15:00   4602.0       146.0          empty_likes   \n",
       "14  2017-10-11 15:23:00    897.0        19.0          empty_likes   \n",
       "20  2017-09-11 20:06:00   6305.0        19.0           autorefill   \n",
       "21  2017-04-11 00:30:00   1261.0        19.0          empty_likes   \n",
       "23  2017-10-11 00:04:00   1261.0        19.0           autorefill   \n",
       "24  2017-01-11 04:39:00   1261.0        19.0          empty_likes   \n",
       "32  2017-06-11 00:06:00   9854.0       147.0      trial_vip_popup   \n",
       "51  2017-07-11 23:53:00   1261.0        19.0                 menu   \n",
       "54  2017-02-11 13:43:00   5577.0       147.0      trial_vip_popup   \n",
       "59  2017-04-11 20:45:00   5304.0        19.0          empty_likes   \n",
       "61  2017-04-11 16:19:00   1261.0        19.0                 fans   \n",
       "66  2017-01-11 16:50:00   1898.0        19.0                 none   \n",
       "72  2017-06-11 10:54:00   2821.0        19.0                 none   \n",
       "73  2017-04-11 17:12:00   1261.0        19.0           autorefill   \n",
       "77  2017-10-11 17:18:00   1261.0        19.0          empty_likes   \n",
       "79  2017-10-11 15:22:00    897.0       146.0          empty_likes   \n",
       "87  2017-01-11 21:08:00  12727.0       147.0               dating   \n",
       "90  2017-02-11 20:58:00   6292.0       147.0    left_sidebar_menu   \n",
       "94  2017-09-11 02:21:00   6292.0       147.0  popular_users_block   \n",
       "100 2017-02-11 02:12:00  12610.0        19.0          empty_likes   \n",
       "104 2017-03-11 00:05:00   6292.0       147.0             promo_09   \n",
       "124 2017-01-11 04:10:00   2834.0        19.0                 none   \n",
       "128 2017-06-11 13:39:00   6305.0        19.0           autorefill   \n",
       "133 2017-09-11 12:45:00    728.0       146.0          empty_likes   \n",
       "147 2017-08-11 00:41:00  10569.0       147.0      trial_vip_popup   \n",
       "150 2017-02-11 12:15:00  10153.0       147.0      trial_vip_popup   \n",
       "161 2017-07-11 19:13:00  16536.0       147.0                 none   \n",
       "173 2017-01-11 04:38:00   1261.0        19.0          empty_likes   \n",
       "187 2017-10-11 13:14:00   1261.0        19.0          empty_likes   \n",
       "190 2017-08-11 00:32:00   6422.0       147.0    left_sidebar_menu   \n",
       "192 2017-05-11 13:43:00   3042.0        68.0                 none   \n",
       "199 2017-05-11 23:04:00   9087.0       147.0      trial_vip_popup   \n",
       "201 2017-08-11 01:47:00   6305.0        19.0          empty_likes   \n",
       "213 2017-10-11 19:42:00   3783.0        67.0                 fans   \n",
       "214 2017-03-11 10:44:00   6305.0        19.0          empty_likes   \n",
       "226 2017-10-11 13:14:00   1261.0        19.0           autorefill   \n",
       "243 2017-04-11 04:45:00   6292.0       147.0    autoreply_message   \n",
       "247 2017-06-11 07:23:00   9087.0       147.0      trial_vip_popup   \n",
       "254 2017-01-11 04:34:00  10686.0       147.0      trial_vip_popup   \n",
       "262 2017-07-11 00:04:00   6292.0       147.0             promo_09   \n",
       "263 2017-07-11 11:48:00  10439.0       147.0      trial_vip_popup   \n",
       "272 2017-05-11 14:16:00   9087.0       147.0      trial_vip_popup   \n",
       "275 2017-05-11 10:45:00  12662.0       147.0      trial_vip_popup   \n",
       "276 2017-04-11 16:17:00   3783.0        67.0                 fans   \n",
       "291 2017-06-11 13:54:00  10556.0       147.0      trial_vip_popup   \n",
       "293 2017-07-11 19:51:00  13468.0       147.0      trial_vip_popup   \n",
       "299 2017-04-11 16:08:00   6292.0       147.0                 fans   \n",
       "321 2017-10-11 15:21:00   2730.0        67.0          empty_likes   \n",
       "327 2017-04-11 03:15:00    767.0       146.0                 fans   \n",
       "337 2017-06-11 22:30:00   3432.0       147.0             promo_09   \n",
       "340 2017-02-11 19:03:00   6344.0       147.0             promo_09   \n",
       "345 2017-05-11 21:51:00  13247.0       147.0    autoreply_message   \n",
       "355 2017-05-11 18:18:00   4914.0       147.0             promo_09   \n",
       "360 2017-03-11 10:44:00   3783.0        67.0          empty_likes   \n",
       "374 2017-01-11 02:56:00   9919.0       147.0      trial_vip_popup   \n",
       "\n",
       "         product_type  \n",
       "5               coins  \n",
       "14              coins  \n",
       "20              coins  \n",
       "21              coins  \n",
       "23              coins  \n",
       "24              coins  \n",
       "32      trial_premium  \n",
       "51              coins  \n",
       "54      trial_premium  \n",
       "59              coins  \n",
       "61              coins  \n",
       "66              coins  \n",
       "72              coins  \n",
       "73              coins  \n",
       "77              coins  \n",
       "79              coins  \n",
       "87      trial_premium  \n",
       "90   premium_no_trial  \n",
       "94   premium_no_trial  \n",
       "100             coins  \n",
       "104  premium_no_trial  \n",
       "124             coins  \n",
       "128             coins  \n",
       "133             coins  \n",
       "147     trial_premium  \n",
       "150     trial_premium  \n",
       "161     trial_premium  \n",
       "173             coins  \n",
       "187             coins  \n",
       "190  premium_no_trial  \n",
       "192  premium_no_trial  \n",
       "199     trial_premium  \n",
       "201             coins  \n",
       "213        other_type  \n",
       "214             coins  \n",
       "226             coins  \n",
       "243  premium_no_trial  \n",
       "247     trial_premium  \n",
       "254     trial_premium  \n",
       "262  premium_no_trial  \n",
       "263     trial_premium  \n",
       "272     trial_premium  \n",
       "275     trial_premium  \n",
       "276        other_type  \n",
       "291     trial_premium  \n",
       "293     trial_premium  \n",
       "299  premium_no_trial  \n",
       "321        other_type  \n",
       "327             coins  \n",
       "337  premium_no_trial  \n",
       "340  premium_no_trial  \n",
       "345     trial_premium  \n",
       "355  premium_no_trial  \n",
       "360        other_type  \n",
       "374     trial_premium  "
      ]
     },
     "execution_count": 288,
     "metadata": {},
     "output_type": "execute_result"
    }
   ],
   "source": [
    "#Проверим, что дата регистрации меньше, чем даты транзакций\n",
    "transactions_control1[transactions_control1.joined_at > transactions_control1.paid_at]"
   ]
  },
  {
   "cell_type": "code",
   "execution_count": 289,
   "metadata": {},
   "outputs": [],
   "source": [
    "#Оставляем только тех пользователей, у которых дата покупки больше, даты регистариции,\n",
    "#т к сначала пользователи регистрируются, а потом только уже делают какие-то покупки в приложении\n",
    "#С отправкой аналитики у этих пользователей что-то не так, поэтому исключим их из анализа\n",
    "def filter_incorrect_joined_at(user, trans):\n",
    "    # Создаем маску для ID, которые нужно удалить\n",
    "    mask = user['uid'].isin(trans[trans.joined_at > trans.paid_at].uid)\n",
    "    # Удаляем пользователей\n",
    "    user = user[~mask]\n",
    "    trans = trans[trans.joined_at <= trans.paid_at]"
   ]
  },
  {
   "cell_type": "code",
   "execution_count": 290,
   "metadata": {},
   "outputs": [],
   "source": [
    "filter_incorrect_joined_at(users_control1, transactions_control1)\n",
    "filter_incorrect_joined_at(users_control2, transactions_control2)\n",
    "filter_incorrect_joined_at(users_test, transactions_test)\n"
   ]
  },
  {
   "cell_type": "code",
   "execution_count": 291,
   "metadata": {},
   "outputs": [
    {
     "data": {
      "text/plain": [
       "892236423    11\n",
       "892065108     9\n",
       "892057347     9\n",
       "892339626     8\n",
       "891861594     6\n",
       "             ..\n",
       "891904293     1\n",
       "891907887     1\n",
       "892354869     1\n",
       "891867477     1\n",
       "892071603     1\n",
       "Name: uid, Length: 146, dtype: int64"
      ]
     },
     "execution_count": 291,
     "metadata": {},
     "output_type": "execute_result"
    }
   ],
   "source": [
    "# посмотрим как много транзакций делали пользователи\n",
    "transactions_test.uid.value_counts()"
   ]
  },
  {
   "cell_type": "code",
   "execution_count": 292,
   "metadata": {},
   "outputs": [
    {
     "data": {
      "text/html": [
       "<div>\n",
       "<style scoped>\n",
       "    .dataframe tbody tr th:only-of-type {\n",
       "        vertical-align: middle;\n",
       "    }\n",
       "\n",
       "    .dataframe tbody tr th {\n",
       "        vertical-align: top;\n",
       "    }\n",
       "\n",
       "    .dataframe thead th {\n",
       "        text-align: right;\n",
       "    }\n",
       "</style>\n",
       "<table border=\"1\" class=\"dataframe\">\n",
       "  <thead>\n",
       "    <tr style=\"text-align: right;\">\n",
       "      <th></th>\n",
       "      <th>uid</th>\n",
       "      <th>country</th>\n",
       "      <th>joined_at</th>\n",
       "      <th>paid_at</th>\n",
       "      <th>revenue</th>\n",
       "      <th>payment_id</th>\n",
       "      <th>from_page</th>\n",
       "      <th>product_type</th>\n",
       "    </tr>\n",
       "  </thead>\n",
       "  <tbody>\n",
       "    <tr>\n",
       "      <th>2</th>\n",
       "      <td>892236423</td>\n",
       "      <td>United States of America</td>\n",
       "      <td>2017-10-18 01:09:00</td>\n",
       "      <td>2017-10-23 00:15:00</td>\n",
       "      <td>3783</td>\n",
       "      <td>67</td>\n",
       "      <td>menu</td>\n",
       "      <td>other_type</td>\n",
       "    </tr>\n",
       "    <tr>\n",
       "      <th>3</th>\n",
       "      <td>892236423</td>\n",
       "      <td>United States of America</td>\n",
       "      <td>2017-10-18 01:09:00</td>\n",
       "      <td>2017-10-27 22:38:00</td>\n",
       "      <td>3783</td>\n",
       "      <td>67</td>\n",
       "      <td>menu</td>\n",
       "      <td>other_type</td>\n",
       "    </tr>\n",
       "    <tr>\n",
       "      <th>17</th>\n",
       "      <td>892236423</td>\n",
       "      <td>United States of America</td>\n",
       "      <td>2017-10-18 01:09:00</td>\n",
       "      <td>2017-10-22 22:08:00</td>\n",
       "      <td>1261</td>\n",
       "      <td>19</td>\n",
       "      <td>empty_likes</td>\n",
       "      <td>coins</td>\n",
       "    </tr>\n",
       "    <tr>\n",
       "      <th>81</th>\n",
       "      <td>892236423</td>\n",
       "      <td>United States of America</td>\n",
       "      <td>2017-10-18 01:09:00</td>\n",
       "      <td>2017-10-23 00:14:00</td>\n",
       "      <td>31525</td>\n",
       "      <td>19</td>\n",
       "      <td>menu</td>\n",
       "      <td>coins</td>\n",
       "    </tr>\n",
       "    <tr>\n",
       "      <th>98</th>\n",
       "      <td>892236423</td>\n",
       "      <td>United States of America</td>\n",
       "      <td>2017-10-18 01:09:00</td>\n",
       "      <td>2017-10-23 00:14:00</td>\n",
       "      <td>12610</td>\n",
       "      <td>19</td>\n",
       "      <td>menu</td>\n",
       "      <td>coins</td>\n",
       "    </tr>\n",
       "    <tr>\n",
       "      <th>112</th>\n",
       "      <td>892236423</td>\n",
       "      <td>United States of America</td>\n",
       "      <td>2017-10-18 01:09:00</td>\n",
       "      <td>2017-10-22 22:09:00</td>\n",
       "      <td>12610</td>\n",
       "      <td>19</td>\n",
       "      <td>empty_likes</td>\n",
       "      <td>coins</td>\n",
       "    </tr>\n",
       "    <tr>\n",
       "      <th>125</th>\n",
       "      <td>892236423</td>\n",
       "      <td>United States of America</td>\n",
       "      <td>2017-10-18 01:09:00</td>\n",
       "      <td>2017-10-18 01:15:00</td>\n",
       "      <td>6292</td>\n",
       "      <td>147</td>\n",
       "      <td>left_sidebar_menu</td>\n",
       "      <td>premium_no_trial</td>\n",
       "    </tr>\n",
       "    <tr>\n",
       "      <th>139</th>\n",
       "      <td>892236423</td>\n",
       "      <td>United States of America</td>\n",
       "      <td>2017-10-18 01:09:00</td>\n",
       "      <td>2017-10-22 22:08:00</td>\n",
       "      <td>3783</td>\n",
       "      <td>67</td>\n",
       "      <td>empty_likes</td>\n",
       "      <td>other_type</td>\n",
       "    </tr>\n",
       "    <tr>\n",
       "      <th>167</th>\n",
       "      <td>892236423</td>\n",
       "      <td>United States of America</td>\n",
       "      <td>2017-10-18 01:09:00</td>\n",
       "      <td>2017-10-23 00:14:00</td>\n",
       "      <td>3783</td>\n",
       "      <td>67</td>\n",
       "      <td>menu</td>\n",
       "      <td>other_type</td>\n",
       "    </tr>\n",
       "    <tr>\n",
       "      <th>214</th>\n",
       "      <td>892236423</td>\n",
       "      <td>United States of America</td>\n",
       "      <td>2017-10-18 01:09:00</td>\n",
       "      <td>2017-10-22 22:08:00</td>\n",
       "      <td>6305</td>\n",
       "      <td>19</td>\n",
       "      <td>empty_likes</td>\n",
       "      <td>coins</td>\n",
       "    </tr>\n",
       "    <tr>\n",
       "      <th>238</th>\n",
       "      <td>892236423</td>\n",
       "      <td>United States of America</td>\n",
       "      <td>2017-10-18 01:09:00</td>\n",
       "      <td>2017-10-18 01:33:00</td>\n",
       "      <td>1261</td>\n",
       "      <td>19</td>\n",
       "      <td>empty_likes</td>\n",
       "      <td>coins</td>\n",
       "    </tr>\n",
       "  </tbody>\n",
       "</table>\n",
       "</div>"
      ],
      "text/plain": [
       "           uid                   country           joined_at  \\\n",
       "2    892236423  United States of America 2017-10-18 01:09:00   \n",
       "3    892236423  United States of America 2017-10-18 01:09:00   \n",
       "17   892236423  United States of America 2017-10-18 01:09:00   \n",
       "81   892236423  United States of America 2017-10-18 01:09:00   \n",
       "98   892236423  United States of America 2017-10-18 01:09:00   \n",
       "112  892236423  United States of America 2017-10-18 01:09:00   \n",
       "125  892236423  United States of America 2017-10-18 01:09:00   \n",
       "139  892236423  United States of America 2017-10-18 01:09:00   \n",
       "167  892236423  United States of America 2017-10-18 01:09:00   \n",
       "214  892236423  United States of America 2017-10-18 01:09:00   \n",
       "238  892236423  United States of America 2017-10-18 01:09:00   \n",
       "\n",
       "                paid_at  revenue  payment_id          from_page  \\\n",
       "2   2017-10-23 00:15:00     3783          67               menu   \n",
       "3   2017-10-27 22:38:00     3783          67               menu   \n",
       "17  2017-10-22 22:08:00     1261          19        empty_likes   \n",
       "81  2017-10-23 00:14:00    31525          19               menu   \n",
       "98  2017-10-23 00:14:00    12610          19               menu   \n",
       "112 2017-10-22 22:09:00    12610          19        empty_likes   \n",
       "125 2017-10-18 01:15:00     6292         147  left_sidebar_menu   \n",
       "139 2017-10-22 22:08:00     3783          67        empty_likes   \n",
       "167 2017-10-23 00:14:00     3783          67               menu   \n",
       "214 2017-10-22 22:08:00     6305          19        empty_likes   \n",
       "238 2017-10-18 01:33:00     1261          19        empty_likes   \n",
       "\n",
       "         product_type  \n",
       "2          other_type  \n",
       "3          other_type  \n",
       "17              coins  \n",
       "81              coins  \n",
       "98              coins  \n",
       "112             coins  \n",
       "125  premium_no_trial  \n",
       "139        other_type  \n",
       "167        other_type  \n",
       "214             coins  \n",
       "238             coins  "
      ]
     },
     "execution_count": 292,
     "metadata": {},
     "output_type": "execute_result"
    }
   ],
   "source": [
    "transactions_test[transactions_test.uid == 892236423]"
   ]
  },
  {
   "cell_type": "code",
   "execution_count": 293,
   "metadata": {},
   "outputs": [
    {
     "data": {
      "text/plain": [
       "86996"
      ]
     },
     "execution_count": 293,
     "metadata": {},
     "output_type": "execute_result"
    }
   ],
   "source": [
    "# сумма ревенью по всем транзакциям пользователя не совпадает с total_revenue из таблицы user_test\n",
    "# почему???\n",
    "transactions_test[transactions_test.uid == 892236423].revenue.sum()"
   ]
  },
  {
   "cell_type": "code",
   "execution_count": 294,
   "metadata": {},
   "outputs": [
    {
     "data": {
      "text/html": [
       "<div>\n",
       "<style scoped>\n",
       "    .dataframe tbody tr th:only-of-type {\n",
       "        vertical-align: middle;\n",
       "    }\n",
       "\n",
       "    .dataframe tbody tr th {\n",
       "        vertical-align: top;\n",
       "    }\n",
       "\n",
       "    .dataframe thead th {\n",
       "        text-align: right;\n",
       "    }\n",
       "</style>\n",
       "<table border=\"1\" class=\"dataframe\">\n",
       "  <thead>\n",
       "    <tr style=\"text-align: right;\">\n",
       "      <th></th>\n",
       "      <th>uid</th>\n",
       "      <th>age</th>\n",
       "      <th>attraction_coeff</th>\n",
       "      <th>coins</th>\n",
       "      <th>country</th>\n",
       "      <th>visit_days</th>\n",
       "      <th>gender</th>\n",
       "      <th>age_filter_start</th>\n",
       "      <th>age_filter_end</th>\n",
       "      <th>views_count</th>\n",
       "      <th>was_premium</th>\n",
       "      <th>is_premium</th>\n",
       "      <th>total_revenue</th>\n",
       "    </tr>\n",
       "  </thead>\n",
       "  <tbody>\n",
       "    <tr>\n",
       "      <th>406</th>\n",
       "      <td>892236423</td>\n",
       "      <td>23</td>\n",
       "      <td>262</td>\n",
       "      <td>378.0</td>\n",
       "      <td>United States of America</td>\n",
       "      <td>1,2,3,4,5,6,7,8,9,10,11,12,13,14,15,16,17,18,1...</td>\n",
       "      <td>1</td>\n",
       "      <td>19</td>\n",
       "      <td>23</td>\n",
       "      <td>1326</td>\n",
       "      <td>1.0</td>\n",
       "      <td>1.0</td>\n",
       "      <td>95823</td>\n",
       "    </tr>\n",
       "  </tbody>\n",
       "</table>\n",
       "</div>"
      ],
      "text/plain": [
       "           uid  age  attraction_coeff  coins                   country  \\\n",
       "406  892236423   23               262  378.0  United States of America   \n",
       "\n",
       "                                            visit_days  gender  \\\n",
       "406  1,2,3,4,5,6,7,8,9,10,11,12,13,14,15,16,17,18,1...       1   \n",
       "\n",
       "     age_filter_start  age_filter_end  views_count  was_premium  is_premium  \\\n",
       "406                19              23         1326          1.0         1.0   \n",
       "\n",
       "     total_revenue  \n",
       "406          95823  "
      ]
     },
     "execution_count": 294,
     "metadata": {},
     "output_type": "execute_result"
    }
   ],
   "source": [
    "users_test[users_test.uid == 892236423]"
   ]
  },
  {
   "cell_type": "code",
   "execution_count": 295,
   "metadata": {},
   "outputs": [
    {
     "data": {
      "text/plain": [
       "<matplotlib.axes._subplots.AxesSubplot at 0x7f50c56850f0>"
      ]
     },
     "execution_count": 295,
     "metadata": {},
     "output_type": "execute_result"
    },
    {
     "data": {
      "image/png": "[encoded data removed]",
      "text/plain": [
       "<Figure size 864x576 with 1 Axes>"
      ]
     },
     "metadata": {},
     "output_type": "display_data"
    }
   ],
   "source": [
    "# посмотрим из каких мест можно купить премиальную подписку\n",
    "transactions_test[transactions_test.product_type == 'premium_no_trial'].from_page.value_counts().plot(kind='bar')"
   ]
  },
  {
   "cell_type": "code",
   "execution_count": 296,
   "metadata": {},
   "outputs": [
    {
     "data": {
      "text/plain": [
       "<matplotlib.axes._subplots.AxesSubplot at 0x7f50c51dfc18>"
      ]
     },
     "execution_count": 296,
     "metadata": {},
     "output_type": "execute_result"
    },
    {
     "data": {
      "image/png": "[encoded data removed]",
      "text/plain": [
       "<Figure size 864x576 with 1 Axes>"
      ]
     },
     "metadata": {},
     "output_type": "display_data"
    }
   ],
   "source": [
    "transactions_control1[transactions_control1.product_type == 'premium_no_trial'].from_page.value_counts().plot(kind='bar')"
   ]
  },
  {
   "cell_type": "code",
   "execution_count": 297,
   "metadata": {},
   "outputs": [
    {
     "data": {
      "text/html": [
       "<div>\n",
       "<style scoped>\n",
       "    .dataframe tbody tr th:only-of-type {\n",
       "        vertical-align: middle;\n",
       "    }\n",
       "\n",
       "    .dataframe tbody tr th {\n",
       "        vertical-align: top;\n",
       "    }\n",
       "\n",
       "    .dataframe thead th {\n",
       "        text-align: right;\n",
       "    }\n",
       "</style>\n",
       "<table border=\"1\" class=\"dataframe\">\n",
       "  <thead>\n",
       "    <tr style=\"text-align: right;\">\n",
       "      <th></th>\n",
       "      <th>product_type</th>\n",
       "    </tr>\n",
       "    <tr>\n",
       "      <th>payment_id</th>\n",
       "      <th></th>\n",
       "    </tr>\n",
       "  </thead>\n",
       "  <tbody>\n",
       "    <tr>\n",
       "      <th>0</th>\n",
       "      <td>1</td>\n",
       "    </tr>\n",
       "    <tr>\n",
       "      <th>68</th>\n",
       "      <td>12</td>\n",
       "    </tr>\n",
       "    <tr>\n",
       "      <th>147</th>\n",
       "      <td>63</td>\n",
       "    </tr>\n",
       "  </tbody>\n",
       "</table>\n",
       "</div>"
      ],
      "text/plain": [
       "            product_type\n",
       "payment_id              \n",
       "0                      1\n",
       "68                    12\n",
       "147                   63"
      ]
     },
     "execution_count": 297,
     "metadata": {},
     "output_type": "execute_result"
    }
   ],
   "source": [
    "# теперь посмотрим на платежные системы, которые отвечают за премиум-подписку\n",
    "transactions_test[transactions_test.product_type == 'premium_no_trial'].\\\n",
    "groupby(['payment_id']).agg({'product_type':'count'})"
   ]
  },
  {
   "cell_type": "code",
   "execution_count": 298,
   "metadata": {},
   "outputs": [
    {
     "data": {
      "text/html": [
       "<div>\n",
       "<style scoped>\n",
       "    .dataframe tbody tr th:only-of-type {\n",
       "        vertical-align: middle;\n",
       "    }\n",
       "\n",
       "    .dataframe tbody tr th {\n",
       "        vertical-align: top;\n",
       "    }\n",
       "\n",
       "    .dataframe thead th {\n",
       "        text-align: right;\n",
       "    }\n",
       "</style>\n",
       "<table border=\"1\" class=\"dataframe\">\n",
       "  <thead>\n",
       "    <tr style=\"text-align: right;\">\n",
       "      <th></th>\n",
       "      <th>product_type</th>\n",
       "    </tr>\n",
       "    <tr>\n",
       "      <th>payment_id</th>\n",
       "      <th></th>\n",
       "    </tr>\n",
       "  </thead>\n",
       "  <tbody>\n",
       "    <tr>\n",
       "      <th>0.0</th>\n",
       "      <td>2</td>\n",
       "    </tr>\n",
       "    <tr>\n",
       "      <th>68.0</th>\n",
       "      <td>16</td>\n",
       "    </tr>\n",
       "    <tr>\n",
       "      <th>147.0</th>\n",
       "      <td>88</td>\n",
       "    </tr>\n",
       "  </tbody>\n",
       "</table>\n",
       "</div>"
      ],
      "text/plain": [
       "            product_type\n",
       "payment_id              \n",
       "0.0                    2\n",
       "68.0                  16\n",
       "147.0                 88"
      ]
     },
     "execution_count": 298,
     "metadata": {},
     "output_type": "execute_result"
    }
   ],
   "source": [
    "transactions_control1[transactions_control1.product_type == 'premium_no_trial'].\\\n",
    "groupby(['payment_id']).agg({'product_type':'count'})"
   ]
  },
  {
   "cell_type": "code",
   "execution_count": 299,
   "metadata": {},
   "outputs": [
    {
     "data": {
      "text/html": [
       "<div>\n",
       "<style scoped>\n",
       "    .dataframe tbody tr th:only-of-type {\n",
       "        vertical-align: middle;\n",
       "    }\n",
       "\n",
       "    .dataframe tbody tr th {\n",
       "        vertical-align: top;\n",
       "    }\n",
       "\n",
       "    .dataframe thead th {\n",
       "        text-align: right;\n",
       "    }\n",
       "</style>\n",
       "<table border=\"1\" class=\"dataframe\">\n",
       "  <thead>\n",
       "    <tr style=\"text-align: right;\">\n",
       "      <th></th>\n",
       "      <th>product_type</th>\n",
       "    </tr>\n",
       "    <tr>\n",
       "      <th>payment_id</th>\n",
       "      <th></th>\n",
       "    </tr>\n",
       "  </thead>\n",
       "  <tbody>\n",
       "    <tr>\n",
       "      <th>0</th>\n",
       "      <td>1</td>\n",
       "    </tr>\n",
       "    <tr>\n",
       "      <th>68</th>\n",
       "      <td>14</td>\n",
       "    </tr>\n",
       "    <tr>\n",
       "      <th>147</th>\n",
       "      <td>92</td>\n",
       "    </tr>\n",
       "  </tbody>\n",
       "</table>\n",
       "</div>"
      ],
      "text/plain": [
       "            product_type\n",
       "payment_id              \n",
       "0                      1\n",
       "68                    14\n",
       "147                   92"
      ]
     },
     "execution_count": 299,
     "metadata": {},
     "output_type": "execute_result"
    }
   ],
   "source": [
    "transactions_control2[transactions_control2.product_type == 'premium_no_trial'].\\\n",
    "groupby(['payment_id']).agg({'product_type':'count'})"
   ]
  },
  {
   "cell_type": "markdown",
   "metadata": {},
   "source": [
    "Вывод: Скорее всего в эксперименте меняли цены для платежных систем с payment_id 68 и 147. Еще есть подозрительная платежная система с id 0. Возможно, это тестовая платежная система, через которую сделали пару покупок."
   ]
  },
  {
   "cell_type": "markdown",
   "metadata": {},
   "source": [
    "### 2. Проверка корректности работы системы сплитования"
   ]
  },
  {
   "cell_type": "markdown",
   "metadata": {},
   "source": [
    "Проверим, сохраняется ли равномерное распределение трафика в различных сегментах пользователей. Это поможет выявить скрытые перекосы. Для анализа как раз нам подойдут две контрольные группы."
   ]
  },
  {
   "cell_type": "code",
   "execution_count": 300,
   "metadata": {},
   "outputs": [],
   "source": [
    "def chi2_check(cross):\n",
    "\n",
    "    # Запускаем тест хи-квадрат на независимость\n",
    "    chi2, p_value, dof, expected = stats.chi2_contingency(cross)\n",
    "\n",
    "    # Интерпретируем результаты\n",
    "    print(f\"Статистика Хи-квадрат: {chi2:.4f}\")\n",
    "    print(f\"P-значение (p-value): {p_value:.4f}\")\n",
    "    print(f\"Степени свободы (dof): {dof}\")\n",
    "    print(\"\\nОжидаемые частоты (если бы зависимости не было):\")\n",
    "    print(expected)\n",
    "\n",
    "    # Уровень значимости\n",
    "    alpha = 0.01\n",
    "\n",
    "    if p_value < alpha:\n",
    "        print(\"\\nОтклоняем нулевую гипотезу: Распределение по группам ЗАВИСИТ от сегмента.\")\n",
    "        print(\"Вывод: Сплит работает по-разному для разных сегментов, что является проблемой.\")\n",
    "    else:\n",
    "        print(\"\\nНе удалось отклонить нулевую гипотезу: Распределение по группам НЕ зависит от сегмента.\")\n",
    "        print(\"Вывод: Сплит работает корректно в разрезе сегментов\")\n"
   ]
  },
  {
   "cell_type": "code",
   "execution_count": 301,
   "metadata": {},
   "outputs": [],
   "source": [
    "# Создаем таблицу сопряженности (contingency table)\n",
    "cross = pd.concat([users_control1.country.value_counts().rename(\"users_control1\"),users_control2.country.value_counts()], axis=1)"
   ]
  },
  {
   "cell_type": "code",
   "execution_count": 302,
   "metadata": {},
   "outputs": [
    {
     "data": {
      "text/html": [
       "<div>\n",
       "<style scoped>\n",
       "    .dataframe tbody tr th:only-of-type {\n",
       "        vertical-align: middle;\n",
       "    }\n",
       "\n",
       "    .dataframe tbody tr th {\n",
       "        vertical-align: top;\n",
       "    }\n",
       "\n",
       "    .dataframe thead th {\n",
       "        text-align: right;\n",
       "    }\n",
       "</style>\n",
       "<table border=\"1\" class=\"dataframe\">\n",
       "  <thead>\n",
       "    <tr style=\"text-align: right;\">\n",
       "      <th></th>\n",
       "      <th>users_control1</th>\n",
       "      <th>country</th>\n",
       "    </tr>\n",
       "  </thead>\n",
       "  <tbody>\n",
       "    <tr>\n",
       "      <th>United States of America</th>\n",
       "      <td>1471.0</td>\n",
       "      <td>1486.0</td>\n",
       "    </tr>\n",
       "    <tr>\n",
       "      <th>Argentina</th>\n",
       "      <td>389.0</td>\n",
       "      <td>397.0</td>\n",
       "    </tr>\n",
       "    <tr>\n",
       "      <th>France</th>\n",
       "      <td>370.0</td>\n",
       "      <td>376.0</td>\n",
       "    </tr>\n",
       "    <tr>\n",
       "      <th>Spain</th>\n",
       "      <td>342.0</td>\n",
       "      <td>310.0</td>\n",
       "    </tr>\n",
       "    <tr>\n",
       "      <th>Italy</th>\n",
       "      <td>338.0</td>\n",
       "      <td>293.0</td>\n",
       "    </tr>\n",
       "    <tr>\n",
       "      <th>Chile</th>\n",
       "      <td>287.0</td>\n",
       "      <td>286.0</td>\n",
       "    </tr>\n",
       "    <tr>\n",
       "      <th>United Arab Emirates</th>\n",
       "      <td>207.0</td>\n",
       "      <td>211.0</td>\n",
       "    </tr>\n",
       "    <tr>\n",
       "      <th>Germany</th>\n",
       "      <td>188.0</td>\n",
       "      <td>202.0</td>\n",
       "    </tr>\n",
       "    <tr>\n",
       "      <th>United Kingdom (Great Britain)</th>\n",
       "      <td>146.0</td>\n",
       "      <td>146.0</td>\n",
       "    </tr>\n",
       "    <tr>\n",
       "      <th>Canada</th>\n",
       "      <td>134.0</td>\n",
       "      <td>134.0</td>\n",
       "    </tr>\n",
       "    <tr>\n",
       "      <th>Israel</th>\n",
       "      <td>109.0</td>\n",
       "      <td>78.0</td>\n",
       "    </tr>\n",
       "    <tr>\n",
       "      <th>Belgium</th>\n",
       "      <td>108.0</td>\n",
       "      <td>90.0</td>\n",
       "    </tr>\n",
       "    <tr>\n",
       "      <th>Portugal</th>\n",
       "      <td>100.0</td>\n",
       "      <td>100.0</td>\n",
       "    </tr>\n",
       "    <tr>\n",
       "      <th>Australia</th>\n",
       "      <td>50.0</td>\n",
       "      <td>51.0</td>\n",
       "    </tr>\n",
       "    <tr>\n",
       "      <th>Switzerland</th>\n",
       "      <td>42.0</td>\n",
       "      <td>35.0</td>\n",
       "    </tr>\n",
       "    <tr>\n",
       "      <th>Turkey</th>\n",
       "      <td>8.0</td>\n",
       "      <td>5.0</td>\n",
       "    </tr>\n",
       "    <tr>\n",
       "      <th>Ukraine</th>\n",
       "      <td>8.0</td>\n",
       "      <td>18.0</td>\n",
       "    </tr>\n",
       "    <tr>\n",
       "      <th>India</th>\n",
       "      <td>6.0</td>\n",
       "      <td>2.0</td>\n",
       "    </tr>\n",
       "    <tr>\n",
       "      <th>Russian Federation</th>\n",
       "      <td>5.0</td>\n",
       "      <td>8.0</td>\n",
       "    </tr>\n",
       "    <tr>\n",
       "      <th>Mexico</th>\n",
       "      <td>4.0</td>\n",
       "      <td>4.0</td>\n",
       "    </tr>\n",
       "    <tr>\n",
       "      <th>Tunisia</th>\n",
       "      <td>3.0</td>\n",
       "      <td>NaN</td>\n",
       "    </tr>\n",
       "    <tr>\n",
       "      <th>Algeria</th>\n",
       "      <td>2.0</td>\n",
       "      <td>NaN</td>\n",
       "    </tr>\n",
       "    <tr>\n",
       "      <th>Egypt</th>\n",
       "      <td>2.0</td>\n",
       "      <td>NaN</td>\n",
       "    </tr>\n",
       "    <tr>\n",
       "      <th>Venezuela</th>\n",
       "      <td>2.0</td>\n",
       "      <td>NaN</td>\n",
       "    </tr>\n",
       "    <tr>\n",
       "      <th>Dominican Republic</th>\n",
       "      <td>2.0</td>\n",
       "      <td>1.0</td>\n",
       "    </tr>\n",
       "    <tr>\n",
       "      <th>Puerto Rico</th>\n",
       "      <td>2.0</td>\n",
       "      <td>NaN</td>\n",
       "    </tr>\n",
       "    <tr>\n",
       "      <th>Moldova, Republic of</th>\n",
       "      <td>1.0</td>\n",
       "      <td>NaN</td>\n",
       "    </tr>\n",
       "    <tr>\n",
       "      <th>Romania</th>\n",
       "      <td>1.0</td>\n",
       "      <td>NaN</td>\n",
       "    </tr>\n",
       "    <tr>\n",
       "      <th>Peru</th>\n",
       "      <td>1.0</td>\n",
       "      <td>1.0</td>\n",
       "    </tr>\n",
       "    <tr>\n",
       "      <th>Jamaica</th>\n",
       "      <td>1.0</td>\n",
       "      <td>NaN</td>\n",
       "    </tr>\n",
       "    <tr>\n",
       "      <th>Sweden</th>\n",
       "      <td>1.0</td>\n",
       "      <td>NaN</td>\n",
       "    </tr>\n",
       "    <tr>\n",
       "      <th>Costa Rica</th>\n",
       "      <td>1.0</td>\n",
       "      <td>1.0</td>\n",
       "    </tr>\n",
       "    <tr>\n",
       "      <th>Panama</th>\n",
       "      <td>1.0</td>\n",
       "      <td>NaN</td>\n",
       "    </tr>\n",
       "    <tr>\n",
       "      <th>Kyrgyzstan</th>\n",
       "      <td>1.0</td>\n",
       "      <td>1.0</td>\n",
       "    </tr>\n",
       "    <tr>\n",
       "      <th>Burkina Faso</th>\n",
       "      <td>1.0</td>\n",
       "      <td>NaN</td>\n",
       "    </tr>\n",
       "    <tr>\n",
       "      <th>China</th>\n",
       "      <td>1.0</td>\n",
       "      <td>1.0</td>\n",
       "    </tr>\n",
       "    <tr>\n",
       "      <th>Qatar</th>\n",
       "      <td>1.0</td>\n",
       "      <td>1.0</td>\n",
       "    </tr>\n",
       "    <tr>\n",
       "      <th>Philippines</th>\n",
       "      <td>1.0</td>\n",
       "      <td>NaN</td>\n",
       "    </tr>\n",
       "    <tr>\n",
       "      <th>Armenia</th>\n",
       "      <td>1.0</td>\n",
       "      <td>NaN</td>\n",
       "    </tr>\n",
       "    <tr>\n",
       "      <th>Colombia</th>\n",
       "      <td>1.0</td>\n",
       "      <td>2.0</td>\n",
       "    </tr>\n",
       "    <tr>\n",
       "      <th>Morocco</th>\n",
       "      <td>NaN</td>\n",
       "      <td>5.0</td>\n",
       "    </tr>\n",
       "    <tr>\n",
       "      <th>Pakistan</th>\n",
       "      <td>NaN</td>\n",
       "      <td>2.0</td>\n",
       "    </tr>\n",
       "    <tr>\n",
       "      <th>Austria</th>\n",
       "      <td>NaN</td>\n",
       "      <td>2.0</td>\n",
       "    </tr>\n",
       "    <tr>\n",
       "      <th>Malaysia</th>\n",
       "      <td>NaN</td>\n",
       "      <td>1.0</td>\n",
       "    </tr>\n",
       "    <tr>\n",
       "      <th>Paraguay</th>\n",
       "      <td>NaN</td>\n",
       "      <td>1.0</td>\n",
       "    </tr>\n",
       "    <tr>\n",
       "      <th>Uruguay</th>\n",
       "      <td>NaN</td>\n",
       "      <td>1.0</td>\n",
       "    </tr>\n",
       "    <tr>\n",
       "      <th>Kuwait</th>\n",
       "      <td>NaN</td>\n",
       "      <td>1.0</td>\n",
       "    </tr>\n",
       "    <tr>\n",
       "      <th>Lithuania</th>\n",
       "      <td>NaN</td>\n",
       "      <td>1.0</td>\n",
       "    </tr>\n",
       "    <tr>\n",
       "      <th>Tajikistan</th>\n",
       "      <td>NaN</td>\n",
       "      <td>1.0</td>\n",
       "    </tr>\n",
       "    <tr>\n",
       "      <th>Georgia</th>\n",
       "      <td>NaN</td>\n",
       "      <td>1.0</td>\n",
       "    </tr>\n",
       "    <tr>\n",
       "      <th>Somalia</th>\n",
       "      <td>NaN</td>\n",
       "      <td>1.0</td>\n",
       "    </tr>\n",
       "    <tr>\n",
       "      <th>Mali</th>\n",
       "      <td>NaN</td>\n",
       "      <td>1.0</td>\n",
       "    </tr>\n",
       "    <tr>\n",
       "      <th>New Zealand</th>\n",
       "      <td>NaN</td>\n",
       "      <td>1.0</td>\n",
       "    </tr>\n",
       "    <tr>\n",
       "      <th>Nicaragua</th>\n",
       "      <td>NaN</td>\n",
       "      <td>1.0</td>\n",
       "    </tr>\n",
       "    <tr>\n",
       "      <th>Uganda</th>\n",
       "      <td>NaN</td>\n",
       "      <td>1.0</td>\n",
       "    </tr>\n",
       "    <tr>\n",
       "      <th>Hungary</th>\n",
       "      <td>NaN</td>\n",
       "      <td>1.0</td>\n",
       "    </tr>\n",
       "    <tr>\n",
       "      <th>Belarus</th>\n",
       "      <td>NaN</td>\n",
       "      <td>1.0</td>\n",
       "    </tr>\n",
       "    <tr>\n",
       "      <th>Czech Republic</th>\n",
       "      <td>NaN</td>\n",
       "      <td>1.0</td>\n",
       "    </tr>\n",
       "  </tbody>\n",
       "</table>\n",
       "</div>"
      ],
      "text/plain": [
       "                                users_control1  country\n",
       "United States of America                1471.0   1486.0\n",
       "Argentina                                389.0    397.0\n",
       "France                                   370.0    376.0\n",
       "Spain                                    342.0    310.0\n",
       "Italy                                    338.0    293.0\n",
       "Chile                                    287.0    286.0\n",
       "United Arab Emirates                     207.0    211.0\n",
       "Germany                                  188.0    202.0\n",
       "United Kingdom (Great Britain)           146.0    146.0\n",
       "Canada                                   134.0    134.0\n",
       "Israel                                   109.0     78.0\n",
       "Belgium                                  108.0     90.0\n",
       "Portugal                                 100.0    100.0\n",
       "Australia                                 50.0     51.0\n",
       "Switzerland                               42.0     35.0\n",
       "Turkey                                     8.0      5.0\n",
       "Ukraine                                    8.0     18.0\n",
       "India                                      6.0      2.0\n",
       "Russian Federation                         5.0      8.0\n",
       "Mexico                                     4.0      4.0\n",
       "Tunisia                                    3.0      NaN\n",
       "Algeria                                    2.0      NaN\n",
       "Egypt                                      2.0      NaN\n",
       "Venezuela                                  2.0      NaN\n",
       "Dominican Republic                         2.0      1.0\n",
       "Puerto Rico                                2.0      NaN\n",
       "Moldova, Republic of                       1.0      NaN\n",
       "Romania                                    1.0      NaN\n",
       "Peru                                       1.0      1.0\n",
       "Jamaica                                    1.0      NaN\n",
       "Sweden                                     1.0      NaN\n",
       "Costa Rica                                 1.0      1.0\n",
       "Panama                                     1.0      NaN\n",
       "Kyrgyzstan                                 1.0      1.0\n",
       "Burkina Faso                               1.0      NaN\n",
       "China                                      1.0      1.0\n",
       "Qatar                                      1.0      1.0\n",
       "Philippines                                1.0      NaN\n",
       "Armenia                                    1.0      NaN\n",
       "Colombia                                   1.0      2.0\n",
       "Morocco                                    NaN      5.0\n",
       "Pakistan                                   NaN      2.0\n",
       "Austria                                    NaN      2.0\n",
       "Malaysia                                   NaN      1.0\n",
       "Paraguay                                   NaN      1.0\n",
       "Uruguay                                    NaN      1.0\n",
       "Kuwait                                     NaN      1.0\n",
       "Lithuania                                  NaN      1.0\n",
       "Tajikistan                                 NaN      1.0\n",
       "Georgia                                    NaN      1.0\n",
       "Somalia                                    NaN      1.0\n",
       "Mali                                       NaN      1.0\n",
       "New Zealand                                NaN      1.0\n",
       "Nicaragua                                  NaN      1.0\n",
       "Uganda                                     NaN      1.0\n",
       "Hungary                                    NaN      1.0\n",
       "Belarus                                    NaN      1.0\n",
       "Czech Republic                             NaN      1.0"
      ]
     },
     "execution_count": 302,
     "metadata": {},
     "output_type": "execute_result"
    }
   ],
   "source": [
    "cross\n",
    "# Некоторые страны не совпадают в двух группах. \n",
    "# Необходимо почистить данные и оставить пользователей только из старн, которые есть во всех группах"
   ]
  },
  {
   "cell_type": "code",
   "execution_count": 303,
   "metadata": {},
   "outputs": [],
   "source": [
    "# убираем данные пользователей стран, которые не участвуют в эксперименте"
   ]
  },
  {
   "cell_type": "code",
   "execution_count": 304,
   "metadata": {},
   "outputs": [],
   "source": [
    "cross = cross.dropna(subset=['country', 'users_control1'])"
   ]
  },
  {
   "cell_type": "code",
   "execution_count": 305,
   "metadata": {},
   "outputs": [],
   "source": [
    "\n",
    "users_control1 = users_control1[users_control1.country.isin(cross.index)]\n",
    "users_control2 = users_control2[users_control2.country.isin(cross.index)]\n",
    "users_test = users_test[users_test.country.isin(cross.index)]\n",
    "\n",
    "transactions_control1 = transactions_control1[transactions_control1.country.isin(cross.index)]\n",
    "transactions_control2 = transactions_control2[transactions_control2.country.isin(cross.index)]\n",
    "transactions_test = transactions_test[transactions_test.country.isin(cross.index)]"
   ]
  },
  {
   "cell_type": "code",
   "execution_count": 306,
   "metadata": {},
   "outputs": [
    {
     "name": "stdout",
     "output_type": "stream",
     "text": [
      "Статистика Хи-квадрат: 20.1013\n",
      "P-значение (p-value): 0.7867\n",
      "Степени свободы (dof): 26\n",
      "\n",
      "Ожидаемые частоты (если бы зависимости не было):\n",
      "[[1.49231776e+03 1.46468224e+03]\n",
      " [3.96672897e+02 3.89327103e+02]\n",
      " [3.76485981e+02 3.69514019e+02]\n",
      " [3.29046729e+02 3.22953271e+02]\n",
      " [3.18448598e+02 3.12551402e+02]\n",
      " [2.89177570e+02 2.83822430e+02]\n",
      " [2.10953271e+02 2.07046729e+02]\n",
      " [1.96822430e+02 1.93177570e+02]\n",
      " [1.47364486e+02 1.44635514e+02]\n",
      " [1.35252336e+02 1.32747664e+02]\n",
      " [9.43738318e+01 9.26261682e+01]\n",
      " [9.99252336e+01 9.80747664e+01]\n",
      " [1.00934579e+02 9.90654206e+01]\n",
      " [5.09719626e+01 5.00280374e+01]\n",
      " [3.88598131e+01 3.81401869e+01]\n",
      " [6.56074766e+00 6.43925234e+00]\n",
      " [1.31214953e+01 1.28785047e+01]\n",
      " [4.03738318e+00 3.96261682e+00]\n",
      " [6.56074766e+00 6.43925234e+00]\n",
      " [4.03738318e+00 3.96261682e+00]\n",
      " [1.51401869e+00 1.48598131e+00]\n",
      " [1.00934579e+00 9.90654206e-01]\n",
      " [1.00934579e+00 9.90654206e-01]\n",
      " [1.00934579e+00 9.90654206e-01]\n",
      " [1.00934579e+00 9.90654206e-01]\n",
      " [1.00934579e+00 9.90654206e-01]\n",
      " [1.51401869e+00 1.48598131e+00]]\n",
      "\n",
      "Не удалось отклонить нулевую гипотезу: Распределение по группам НЕ зависит от сегмента.\n",
      "Вывод: Сплит работает корректно в разрезе сегментов\n"
     ]
    }
   ],
   "source": [
    "chi2_check(cross)"
   ]
  },
  {
   "cell_type": "code",
   "execution_count": 307,
   "metadata": {},
   "outputs": [],
   "source": [
    "cross = pd.concat([users_control1.gender.value_counts().rename(\"users_control1\"),\\\n",
    "                   users_control2.gender.value_counts()], axis=1)"
   ]
  },
  {
   "cell_type": "code",
   "execution_count": 308,
   "metadata": {},
   "outputs": [
    {
     "name": "stdout",
     "output_type": "stream",
     "text": [
      "Статистика Хи-квадрат: 0.5860\n",
      "P-значение (p-value): 0.4440\n",
      "Степени свободы (dof): 1\n",
      "\n",
      "Ожидаемые частоты (если бы зависимости не было):\n",
      "[[4130.24299065 4053.75700935]\n",
      " [ 189.75700935  186.24299065]]\n",
      "\n",
      "Не удалось отклонить нулевую гипотезу: Распределение по группам НЕ зависит от сегмента.\n",
      "Вывод: Сплит работает корректно в разрезе сегментов\n"
     ]
    }
   ],
   "source": [
    "chi2_check(cross)"
   ]
  },
  {
   "cell_type": "code",
   "execution_count": 309,
   "metadata": {},
   "outputs": [
    {
     "name": "stdout",
     "output_type": "stream",
     "text": [
      "Статистика KS: 0.0157\n",
      "P-значение: 0.6611\n",
      "Не можем отклонить нулевую гипотезу: нет существенных доказательств различия распределений.\n"
     ]
    }
   ],
   "source": [
    "# Для непрырывной велечины Возраст будем использовать критерий однородности Колмогорова-Смирнова\n",
    "ks_stat_same, p_value_same = stats.ks_2samp(users_control1.age, users_control2.age)\n",
    "\n",
    "print(f\"Статистика KS: {ks_stat_same:.4f}\")\n",
    "print(f\"P-значение: {p_value_same:.4f}\")\n",
    "\n",
    "if p_value_same < 0.05:\n",
    "    print(\"Отклоняем нулевую гипотезу: распределения, вероятно, различны.\")\n",
    "else:\n",
    "    print(\"Не можем отклонить нулевую гипотезу: нет существенных доказательств различия распределений.\")\n"
   ]
  },
  {
   "cell_type": "markdown",
   "metadata": {},
   "source": [
    "Вывод: Сплит система работает корректно. Пользователи по сегментам страна, пол, возраст распределены равномерно по группам."
   ]
  },
  {
   "cell_type": "markdown",
   "metadata": {},
   "source": [
    "### 3. Формулируем гипотезу"
   ]
  },
  {
   "cell_type": "markdown",
   "metadata": {},
   "source": [
    "Мы меняем цену только на премиум-подписку, но хотим узнать, как это повлияло на все приложения. Для этого за гланую метрику в тесте можно взять ARPU.   "
   ]
  },
  {
   "cell_type": "markdown",
   "metadata": {},
   "source": [
    "Наша главная цель, скорее всего, — максимизировать доход. Изменение цены может увеличить или уменьшить количество покупок, и ARPU покажет чистый эффект на доход."
   ]
  },
  {
   "cell_type": "markdown",
   "metadata": {},
   "source": [
    "Н0: Если изменить(как?) стоимость премиум-подписки у новых пользователей через две новые платежные системы, то ARPU не изменится. \n",
    "\n",
    "H1: Если изменить(как?) стоимость премиум-подписки у новых пользователей через две новые платежные системы, то ARPU изменится с ??? до ???. "
   ]
  },
  {
   "cell_type": "markdown",
   "metadata": {},
   "source": [
    "### 4. Выбираем метрики для АБ теста"
   ]
  },
  {
   "cell_type": "markdown",
   "metadata": {},
   "source": [
    "Выберем метрики для теста"
   ]
  },
  {
   "cell_type": "markdown",
   "metadata": {},
   "source": [
    "Целевые метрики:\n",
    "- ARPU даст глобальное понимание влияния изменения цены на подписку\n",
    "- ARPPU покажет как изменился доход с наших платящих пользователей\n",
    "- CR to Premium покажет привлекательней ли для пользователя стала покупка премиум-подписки\n",
    "\n",
    "\n",
    "ARPU = ARPPU * CR to Premium"
   ]
  },
  {
   "cell_type": "markdown",
   "metadata": {},
   "source": [
    "### 5. Анализируем результат"
   ]
  },
  {
   "cell_type": "markdown",
   "metadata": {},
   "source": [
    "Мы уже проверили на двух контрольных группах, что сплит-система работает корректно. Поэтому контрольная группа 1 равнозначна контрольной группе 2. Можем объединить две контрольные группы для дальнейшего анализа."
   ]
  },
  {
   "cell_type": "code",
   "execution_count": 310,
   "metadata": {},
   "outputs": [],
   "source": [
    "# Для удобства объединяем данные теста в один датафрейм\n",
    "users_test['group'] = 'test'\n",
    "users_control1['group'] = 'control1'\n",
    "users_control2['group'] = 'control1'\n",
    "\n",
    "users_data = pd.concat([users_test, users_control1, users_control2])\n",
    "transactions_data = pd.concat([transactions_test, transactions_control1, transactions_control2])\n",
    "\n",
    "# Добавляем столбец с фактом совершения транзакции для подсчета конверсии\n",
    "premium_users = transactions_data[transactions_data.product_type == 'premium_no_trial']['uid'].unique()\n",
    "users_data['premium'] =  users_data.uid.isin(premium_users)\n"
   ]
  },
  {
   "cell_type": "code",
   "execution_count": 311,
   "metadata": {},
   "outputs": [],
   "source": [
    "# Фиксируем уровень значимость и делаем поправку на множественное сравнение\n",
    "alpha = 0.05 / 3"
   ]
  },
  {
   "cell_type": "markdown",
   "metadata": {},
   "source": [
    "#### ARPU"
   ]
  },
  {
   "cell_type": "code",
   "execution_count": 312,
   "metadata": {},
   "outputs": [
    {
     "name": "stdout",
     "output_type": "stream",
     "text": [
      "\n",
      "--- Summary Statistics ---\n",
      "          total_users  total_revenue        ARPU  total_revenue_median\n",
      "group                                                                 \n",
      "control1         8560        4476745  522.984229                     0\n",
      "test             4271        2290717  536.342074                     0\n"
     ]
    }
   ],
   "source": [
    "print(\"\\n--- Summary Statistics ---\")\n",
    "summary = users_data.groupby('group')['total_revenue'].agg(['count', 'sum', 'mean', 'median'])\n",
    "summary.columns = ['total_users', 'total_revenue', 'ARPU', 'total_revenue_median']                   \n",
    "print(summary)"
   ]
  },
  {
   "cell_type": "code",
   "execution_count": 313,
   "metadata": {},
   "outputs": [
    {
     "name": "stdout",
     "output_type": "stream",
     "text": [
      "ARPU lift: 2.55 %\n"
     ]
    }
   ],
   "source": [
    "print(f\"ARPU lift: {np.round((summary.loc['test', 'ARPU']/summary.loc['control1', 'ARPU'] - 1)*100, 2)} %\")"
   ]
  },
  {
   "cell_type": "markdown",
   "metadata": {},
   "source": [
    "Выберем статистический критерий для ARPU. Будем считать, что выборки у нас независимы. Так ARPU мы считаем по пользователям и выборки мы разбивали по пользователям, то наблюдения у нас независимые. Осталось проверить как распределены наши данные, есть ли выбросы, проверить гомогенность дисперсий."
   ]
  },
  {
   "cell_type": "code",
   "execution_count": 314,
   "metadata": {},
   "outputs": [
    {
     "name": "stdout",
     "output_type": "stream",
     "text": [
      "Тест Левена: статистика=0.192, p-значение=0.661\n",
      "p-значение > 0.05: Нет достаточных оснований отвергнуть гипотезу о равенстве дисперсий.\n"
     ]
    }
   ],
   "source": [
    "# Проверим равенство дисперсий(Тест Левена)\n",
    "levene_stat, levene_p = stats.levene(users_test.total_revenue, users_control1.total_revenue)\n",
    "print(f\"Тест Левена: статистика={levene_stat:.3f}, p-значение={levene_p:.3f}\")\n",
    "if levene_p > 0.05:\n",
    "    print(\"p-значение > 0.05: Нет достаточных оснований отвергнуть гипотезу о равенстве дисперсий.\")\n",
    "else:\n",
    "    print(\"p-значение <= 0.05: Есть основания отвергнуть гипотезу о равенстве дисперсий.\")\n"
   ]
  },
  {
   "cell_type": "code",
   "execution_count": 315,
   "metadata": {},
   "outputs": [
    {
     "data": {
      "text/plain": [
       "<matplotlib.axes._subplots.AxesSubplot at 0x7f50c5806048>"
      ]
     },
     "execution_count": 315,
     "metadata": {},
     "output_type": "execute_result"
    },
    {
     "data": {
      "image/png": "[encoded data removed]",
      "text/plain": [
       "<Figure size 864x576 with 1 Axes>"
      ]
     },
     "metadata": {},
     "output_type": "display_data"
    }
   ],
   "source": [
    "plt.title(\"Распределение трат пользователей по группам\")\n",
    "sns.boxplot(x=\"group\", y=\"total_revenue\", data=users_data, palette=[\"r\", \"g\", \"b\"])"
   ]
  },
  {
   "cell_type": "code",
   "execution_count": 316,
   "metadata": {},
   "outputs": [
    {
     "data": {
      "text/plain": [
       "<matplotlib.axes._subplots.AxesSubplot at 0x7f50c5c5f1d0>"
      ]
     },
     "execution_count": 316,
     "metadata": {},
     "output_type": "execute_result"
    },
    {
     "data": {
      "image/png": "[encoded data removed]",
      "text/plain": [
       "<Figure size 864x576 with 1 Axes>"
      ]
     },
     "metadata": {},
     "output_type": "display_data"
    }
   ],
   "source": [
    "plt.title(\"Распределение трат пользователей, которые совершали покупки, по группам\")\n",
    "sns.boxplot(x=\"group\", y=\"total_revenue\", data=users_data[users_data.total_revenue > 0], palette=[\"r\", \"g\", \"b\"])"
   ]
  },
  {
   "cell_type": "markdown",
   "metadata": {},
   "source": [
    "Во всех выборках есть большие выбросы. Это пользователи, которые потратили намного больше других.\n",
    "Если использовать t-test для выборок с большими выбросами, то мы повышаем вероятность ошибки второго рода, т е мы можем не найти различия там, где они есть. Попробуем применить тест на выборках с выбросами и без и сравнить результаты.\n"
   ]
  },
  {
   "cell_type": "code",
   "execution_count": 317,
   "metadata": {},
   "outputs": [],
   "source": [
    "def ttest(a, b, equal_var):\n",
    "    # Применение T-test\n",
    "    statistic, pvalue = stats.ttest_ind(a, b, equal_var = equal_var)\n",
    "\n",
    "    print(f\"Статистика T-test: {statistic:.3f}\")\n",
    "    print(f\"P-значение: {pvalue:.3f}\")\n",
    "\n",
    "    # Интерпретация результатов\n",
    "\n",
    "    if pvalue > alpha:\n",
    "        print(f\"P-значение > {alpha}: Нет статистически значимых различий между средними нормированной выручки двух групп.\")\n",
    "    else:\n",
    "        print(f\"P-значение <= {alpha}: Есть статистически значимые различия между средними нормированной выручки двух групп.\")\n"
   ]
  },
  {
   "cell_type": "code",
   "execution_count": 318,
   "metadata": {},
   "outputs": [
    {
     "name": "stdout",
     "output_type": "stream",
     "text": [
      "Статистика T-test: -0.438\n",
      "P-значение: 0.661\n",
      "P-значение > 0.016666666666666666: Нет статистически значимых различий между средними нормированной выручки двух групп.\n"
     ]
    }
   ],
   "source": [
    "ttest(users_test.total_revenue, users_control1.total_revenue, equal_var = True)"
   ]
  },
  {
   "cell_type": "code",
   "execution_count": 319,
   "metadata": {},
   "outputs": [],
   "source": [
    "# Отфильтровываем данные, оставляя только те, что ниже или равны 99-му персентилю\n",
    "users_test_filtered = users_test[users_test['total_revenue'] <= users_test['total_revenue'].quantile(0.99)]\n",
    "users_control1_filtered = users_control1[users_control1['total_revenue'] <= users_control1['total_revenue'].quantile(0.99)]"
   ]
  },
  {
   "cell_type": "code",
   "execution_count": 320,
   "metadata": {},
   "outputs": [
    {
     "data": {
      "text/plain": [
       "<matplotlib.axes._subplots.AxesSubplot at 0x7f50c596e358>"
      ]
     },
     "execution_count": 320,
     "metadata": {},
     "output_type": "execute_result"
    },
    {
     "data": {
      "image/png": "[encoded data removed]",
      "text/plain": [
       "<Figure size 864x576 with 1 Axes>"
      ]
     },
     "metadata": {},
     "output_type": "display_data"
    }
   ],
   "source": [
    "plt.title(\"Распределение трат пользователей из теста, которые совершали покупки, без выбросов\")\n",
    "sns.boxplot(y=\"total_revenue\", data=users_test_filtered[users_test_filtered['total_revenue']>0], palette=[\"r\", \"g\", \"b\"])"
   ]
  },
  {
   "cell_type": "code",
   "execution_count": 321,
   "metadata": {},
   "outputs": [
    {
     "data": {
      "text/plain": [
       "<matplotlib.axes._subplots.AxesSubplot at 0x7f50c5f48dd8>"
      ]
     },
     "execution_count": 321,
     "metadata": {},
     "output_type": "execute_result"
    },
    {
     "data": {
      "image/png": "[encoded data removed]",
      "text/plain": [
       "<Figure size 864x576 with 1 Axes>"
      ]
     },
     "metadata": {},
     "output_type": "display_data"
    }
   ],
   "source": [
    "plt.title(\"Распределение трат пользователей из контроля, которые совершали покупки, без выбросов\")\n",
    "sns.boxplot(y=\"total_revenue\", data=users_control1_filtered[users_control1_filtered['total_revenue']>0], palette=[\"r\", \"g\", \"b\"])"
   ]
  },
  {
   "cell_type": "code",
   "execution_count": 322,
   "metadata": {},
   "outputs": [
    {
     "name": "stdout",
     "output_type": "stream",
     "text": [
      "Статистика T-test: -1.220\n",
      "P-значение: 0.223\n",
      "P-значение > 0.016666666666666666: Нет статистически значимых различий между средними нормированной выручки двух групп.\n"
     ]
    }
   ],
   "source": [
    "ttest(users_test_filtered.total_revenue, users_control1_filtered.total_revenue, equal_var = True)"
   ]
  },
  {
   "cell_type": "markdown",
   "metadata": {},
   "source": [
    " Вывод: Оба теста(с выбросами/без выбросов)показали, что ARPU стат знасимо не изменилось. Эксперимент не успешен.  "
   ]
  },
  {
   "cell_type": "markdown",
   "metadata": {},
   "source": [
    "#### ARPPU"
   ]
  },
  {
   "cell_type": "code",
   "execution_count": 323,
   "metadata": {},
   "outputs": [
    {
     "name": "stdout",
     "output_type": "stream",
     "text": [
      "\n",
      "--- Summary Statistics ---\n",
      "          total_users  total_revenue         ARPPU  total_revenue_median\n",
      "group                                                                   \n",
      "control1          376        4476745  11906.236702                  9087\n",
      "test              145        2290717  15798.048276                 12727\n"
     ]
    }
   ],
   "source": [
    "print(\"\\n--- Summary Statistics ---\")\n",
    "summary = users_data[users_data.total_revenue != 0].groupby('group')['total_revenue'].agg(['count', 'sum', 'mean', 'median'])\n",
    "summary.columns = ['total_users', 'total_revenue', 'ARPPU', 'total_revenue_median']                   \n",
    "print(summary)"
   ]
  },
  {
   "cell_type": "code",
   "execution_count": 324,
   "metadata": {},
   "outputs": [
    {
     "name": "stdout",
     "output_type": "stream",
     "text": [
      "ARPPU lift: 32.69 %\n"
     ]
    }
   ],
   "source": [
    "print(f\"ARPPU lift: {np.round((summary.loc['test', 'ARPPU']/summary.loc['control1', 'ARPPU'] - 1)*100, 2)} %\")"
   ]
  },
  {
   "cell_type": "code",
   "execution_count": 325,
   "metadata": {},
   "outputs": [
    {
     "name": "stdout",
     "output_type": "stream",
     "text": [
      "Тест Левена: статистика=0.009, p-значение=0.925\n",
      "p-значение > 0.05: Нет достаточных оснований отвергнуть гипотезу о равенстве дисперсий.\n"
     ]
    }
   ],
   "source": [
    "# Проверим равенство дисперсий(Тест Левена)\n",
    "levene_stat, levene_p = stats.levene(users_test[users_test.total_revenue != 0].total_revenue, users_control1[users_control1.total_revenue != 0].total_revenue)\n",
    "print(f\"Тест Левена: статистика={levene_stat:.3f}, p-значение={levene_p:.3f}\")\n",
    "if levene_p > 0.05:\n",
    "    print(\"p-значение > 0.05: Нет достаточных оснований отвергнуть гипотезу о равенстве дисперсий.\")\n",
    "else:\n",
    "    print(\"p-значение <= 0.05: Есть основания отвергнуть гипотезу о равенстве дисперсий.\")\n"
   ]
  },
  {
   "cell_type": "code",
   "execution_count": 326,
   "metadata": {},
   "outputs": [
    {
     "data": {
      "text/plain": [
       "<matplotlib.axes._subplots.AxesSubplot at 0x7f50c532cc50>"
      ]
     },
     "execution_count": 326,
     "metadata": {},
     "output_type": "execute_result"
    },
    {
     "data": {
      "image/png": "[encoded data removed]",
      "text/plain": [
       "<Figure size 864x576 with 1 Axes>"
      ]
     },
     "metadata": {},
     "output_type": "display_data"
    }
   ],
   "source": [
    "plt.title(\"Распределение трат пользователей, которые совершали покупки, по группам\")\n",
    "sns.boxplot(x=\"group\", y=\"total_revenue\", data=users_data[users_data.total_revenue != 0], palette=[\"r\", \"g\", \"b\"])"
   ]
  },
  {
   "cell_type": "markdown",
   "metadata": {},
   "source": [
    "Во всех выборках есть большие выбросы. Это пользователи, которые потратили намного больше других. Если использовать t-test для выборок с большими выбросами, то мы повышаем вероятность ошибки второго рода, т е мы можем не найти различия там, где они есть. Попробуем применить тест на выборках с выбросами и без и сравнить результаты."
   ]
  },
  {
   "cell_type": "code",
   "execution_count": 327,
   "metadata": {},
   "outputs": [
    {
     "name": "stdout",
     "output_type": "stream",
     "text": [
      "Статистика T-test: 0.703\n",
      "P-значение: 0.483\n",
      "P-значение > 0.016666666666666666: Нет статистически значимых различий между средними нормированной выручки двух групп.\n"
     ]
    }
   ],
   "source": [
    "ttest(users_test[users_test.total_revenue != 0].total_revenue, users_control1[users_control1.total_revenue != 0].total_revenue, equal_var = True)"
   ]
  },
  {
   "cell_type": "code",
   "execution_count": 328,
   "metadata": {},
   "outputs": [
    {
     "name": "stdout",
     "output_type": "stream",
     "text": [
      "Статистика T-test: 3.188\n",
      "P-значение: 0.002\n",
      "P-значение <= 0.016666666666666666: Есть статистически значимые различия между средними нормированной выручки двух групп.\n"
     ]
    }
   ],
   "source": [
    "ttest(users_test_filtered[users_test_filtered.total_revenue != 0].total_revenue, users_control1_filtered[users_control1_filtered.total_revenue != 0].total_revenue, equal_var = True)"
   ]
  },
  {
   "cell_type": "markdown",
   "metadata": {},
   "source": [
    "Вывод: Средний доход с платящего пользователя стат значимо изменился в положительную сторону после того, как убрали выбросы. Скорее всего из-за того, что цену на подписку подняли и те, кто покупают, соответственно стали платить нам больше, но это не покрыло наших потерь в конверсии в платящего пользователя. Не смотря на это эксперимент все равно не успешен, так как верхнеуровневая метрика ARPU стат значимо не изменилась."
   ]
  },
  {
   "cell_type": "markdown",
   "metadata": {},
   "source": [
    "#### Конверсия в премиум-подписку"
   ]
  },
  {
   "cell_type": "code",
   "execution_count": 329,
   "metadata": {},
   "outputs": [
    {
     "name": "stdout",
     "output_type": "stream",
     "text": [
      "\n",
      "--- Summary Statistics ---\n",
      "          total_users  conversions  premium_conversion_rate\n",
      "group                                                      \n",
      "control1         8560          200                 0.023364\n",
      "test             4271           66                 0.015453\n"
     ]
    }
   ],
   "source": [
    "print(\"\\n--- Summary Statistics ---\")\n",
    "summary = users_data.groupby('group')['premium'].agg(['count', 'sum', 'mean'])\n",
    "summary.columns = ['total_users', 'conversions', 'premium_conversion_rate']\n",
    "print(summary)"
   ]
  },
  {
   "cell_type": "code",
   "execution_count": 330,
   "metadata": {},
   "outputs": [
    {
     "name": "stdout",
     "output_type": "stream",
     "text": [
      "premium_conversion_rate lift: -33.86 %\n"
     ]
    }
   ],
   "source": [
    "print(f\"premium_conversion_rate lift: {np.round((summary.loc['test', 'premium_conversion_rate']/summary.loc['control1', 'premium_conversion_rate'] - 1)*100, 2)} %\")"
   ]
  },
  {
   "cell_type": "code",
   "execution_count": 331,
   "metadata": {},
   "outputs": [
    {
     "name": "stdout",
     "output_type": "stream",
     "text": [
      "\n",
      "--- Z-test for Proportions ---\n",
      "Z-статистика: -2.9639\n",
      "P-значение: 0.0030\n",
      "P-значение (0.0030) < alpha (0.016666666666666666), отвергаем H0. Есть статистически значимая разница в конверсии.\n"
     ]
    }
   ],
   "source": [
    "# Извлекаем данные для теста\n",
    "count = np.array([summary.loc['test', 'conversions'], summary.loc['control1', 'conversions']])\n",
    "nobs = np.array([summary.loc['test', 'total_users'], summary.loc['control1', 'total_users']])\n",
    "\n",
    "# Проводим Z-тест\n",
    "z_stat, p_value = proportions_ztest(count, nobs, alternative='two-sided') # 'two-sided' для двусторонней гипотезы\n",
    "\n",
    "print(f\"\\n--- Z-test for Proportions ---\")\n",
    "print(f\"Z-статистика: {z_stat:.4f}\")\n",
    "print(f\"P-значение: {p_value:.4f}\")\n",
    "\n",
    "\n",
    "if p_value < alpha:\n",
    "    print(f\"P-значение ({p_value:.4f}) < alpha ({alpha}), отвергаем H0. Есть статистически значимая разница в конверсии.\")\n",
    "else:\n",
    "    print(f\"P-значение ({p_value:.4f}) >= alpha ({alpha}), не можем отвергнуть H0. Нет статистически значимой разницы в конверсии.\")\n"
   ]
  },
  {
   "cell_type": "markdown",
   "metadata": {},
   "source": [
    "Вывод: конверсия в покупку стат значимо упала. Отвергаем H0"
   ]
  },
  {
   "cell_type": "markdown",
   "metadata": {},
   "source": [
    "### Анализ ежедневного ретеншена"
   ]
  },
  {
   "cell_type": "markdown",
   "metadata": {},
   "source": [
    "Посмотрим повлияло ли изменение цены на retention всех пользователей и только премиум-пользователей"
   ]
  },
  {
   "cell_type": "code",
   "execution_count": 332,
   "metadata": {},
   "outputs": [
    {
     "data": {
      "text/html": [
       "<div>\n",
       "<style scoped>\n",
       "    .dataframe tbody tr th:only-of-type {\n",
       "        vertical-align: middle;\n",
       "    }\n",
       "\n",
       "    .dataframe tbody tr th {\n",
       "        vertical-align: top;\n",
       "    }\n",
       "\n",
       "    .dataframe thead th {\n",
       "        text-align: right;\n",
       "    }\n",
       "</style>\n",
       "<table border=\"1\" class=\"dataframe\">\n",
       "  <thead>\n",
       "    <tr style=\"text-align: right;\">\n",
       "      <th></th>\n",
       "      <th>uid</th>\n",
       "      <th>group</th>\n",
       "      <th>is_premium</th>\n",
       "      <th>visit_days</th>\n",
       "    </tr>\n",
       "  </thead>\n",
       "  <tbody>\n",
       "    <tr>\n",
       "      <th>0</th>\n",
       "      <td>892309896</td>\n",
       "      <td>test</td>\n",
       "      <td>NaN</td>\n",
       "      <td>1</td>\n",
       "    </tr>\n",
       "    <tr>\n",
       "      <th>0</th>\n",
       "      <td>892309896</td>\n",
       "      <td>test</td>\n",
       "      <td>NaN</td>\n",
       "      <td>2</td>\n",
       "    </tr>\n",
       "    <tr>\n",
       "      <th>0</th>\n",
       "      <td>892309896</td>\n",
       "      <td>test</td>\n",
       "      <td>NaN</td>\n",
       "      <td>3</td>\n",
       "    </tr>\n",
       "    <tr>\n",
       "      <th>0</th>\n",
       "      <td>892309896</td>\n",
       "      <td>test</td>\n",
       "      <td>NaN</td>\n",
       "      <td>4</td>\n",
       "    </tr>\n",
       "    <tr>\n",
       "      <th>0</th>\n",
       "      <td>892309896</td>\n",
       "      <td>test</td>\n",
       "      <td>NaN</td>\n",
       "      <td>5</td>\n",
       "    </tr>\n",
       "    <tr>\n",
       "      <th>...</th>\n",
       "      <td>...</td>\n",
       "      <td>...</td>\n",
       "      <td>...</td>\n",
       "      <td>...</td>\n",
       "    </tr>\n",
       "    <tr>\n",
       "      <th>4262</th>\n",
       "      <td>891697584</td>\n",
       "      <td>control1</td>\n",
       "      <td>NaN</td>\n",
       "      <td>10</td>\n",
       "    </tr>\n",
       "    <tr>\n",
       "      <th>4262</th>\n",
       "      <td>891697584</td>\n",
       "      <td>control1</td>\n",
       "      <td>NaN</td>\n",
       "      <td>12</td>\n",
       "    </tr>\n",
       "    <tr>\n",
       "      <th>4262</th>\n",
       "      <td>891697584</td>\n",
       "      <td>control1</td>\n",
       "      <td>NaN</td>\n",
       "      <td>14</td>\n",
       "    </tr>\n",
       "    <tr>\n",
       "      <th>4262</th>\n",
       "      <td>891697584</td>\n",
       "      <td>control1</td>\n",
       "      <td>NaN</td>\n",
       "      <td>15</td>\n",
       "    </tr>\n",
       "    <tr>\n",
       "      <th>4263</th>\n",
       "      <td>891095634</td>\n",
       "      <td>control1</td>\n",
       "      <td>NaN</td>\n",
       "      <td>0</td>\n",
       "    </tr>\n",
       "  </tbody>\n",
       "</table>\n",
       "<p>62169 rows × 4 columns</p>\n",
       "</div>"
      ],
      "text/plain": [
       "            uid     group  is_premium  visit_days\n",
       "0     892309896      test         NaN           1\n",
       "0     892309896      test         NaN           2\n",
       "0     892309896      test         NaN           3\n",
       "0     892309896      test         NaN           4\n",
       "0     892309896      test         NaN           5\n",
       "...         ...       ...         ...         ...\n",
       "4262  891697584  control1         NaN          10\n",
       "4262  891697584  control1         NaN          12\n",
       "4262  891697584  control1         NaN          14\n",
       "4262  891697584  control1         NaN          15\n",
       "4263  891095634  control1         NaN           0\n",
       "\n",
       "[62169 rows x 4 columns]"
      ]
     },
     "execution_count": 332,
     "metadata": {},
     "output_type": "execute_result"
    }
   ],
   "source": [
    "\n",
    "users_data['visit_days'] = users_data['visit_days'].fillna('0')\n",
    "users_data['visit_days'] = users_data['visit_days'].str.split(',')\n",
    "\n",
    "df = users_data[['uid', 'group', 'is_premium','visit_days']].explode('visit_days')\n",
    "df['visit_days'] = df['visit_days'].astype(int)\n",
    "df"
   ]
  },
  {
   "cell_type": "code",
   "execution_count": 333,
   "metadata": {},
   "outputs": [],
   "source": [
    "ddf = df.groupby(['group', 'visit_days'], as_index = False)\\\n",
    ".agg({'uid':'count'})\\\n",
    ".sort_values(by = ['visit_days'])\\\n",
    ".pivot_table(index = ['visit_days'], values = 'uid', columns = 'group' )\n",
    "ddf = ddf/ddf.loc[1]"
   ]
  },
  {
   "cell_type": "code",
   "execution_count": 334,
   "metadata": {},
   "outputs": [
    {
     "data": {
      "text/plain": [
       "<matplotlib.axes._subplots.AxesSubplot at 0x7f50c50505f8>"
      ]
     },
     "execution_count": 334,
     "metadata": {},
     "output_type": "execute_result"
    },
    {
     "data": {
      "image/png": "[encoded data removed]",
      "text/plain": [
       "<Figure size 864x576 with 1 Axes>"
      ]
     },
     "metadata": {},
     "output_type": "display_data"
    }
   ],
   "source": [
    "ddf.plot(title = 'Daily retention')"
   ]
  },
  {
   "cell_type": "code",
   "execution_count": 335,
   "metadata": {},
   "outputs": [
    {
     "data": {
      "text/plain": [
       "<matplotlib.axes._subplots.AxesSubplot at 0x7f50c4fc5748>"
      ]
     },
     "execution_count": 335,
     "metadata": {},
     "output_type": "execute_result"
    },
    {
     "data": {
      "image/png": "[encoded data removed]",
      "text/plain": [
       "<Figure size 864x576 with 1 Axes>"
      ]
     },
     "metadata": {},
     "output_type": "display_data"
    }
   ],
   "source": [
    "ddf = df[df.is_premium == True].groupby(['group', 'visit_days'], as_index = False)\\\n",
    ".agg({'uid':'count'})\\\n",
    ".sort_values(by = ['visit_days'])\\\n",
    ".pivot_table(index = ['visit_days'], values = 'uid', columns = 'group' )\n",
    "ddf = ddf/ddf.loc[1]\n",
    "ddf.plot(title = 'Daily retention(only premium users)')"
   ]
  },
  {
   "cell_type": "markdown",
   "metadata": {},
   "source": [
    "Выводы: Судя по графикам, изменение цены не повлияло на возврощаемость премиум-пользователей и всех пользователей"
   ]
  },
  {
   "cell_type": "markdown",
   "metadata": {},
   "source": [
    "### Анализ результатов в разрезе стран"
   ]
  },
  {
   "cell_type": "markdown",
   "metadata": {},
   "source": [
    "Обычно у продукта разная цена в зависимости от страны. Люди из разных стран чаще всего по-разному реагируют на изменение цены. Поэтому посмотрим нашу главную метрику в разрезе стран и сравним группы."
   ]
  },
  {
   "cell_type": "code",
   "execution_count": 336,
   "metadata": {},
   "outputs": [],
   "source": [
    "def summary_ARPU(segment):\n",
    "    summary = users_data.groupby(['group', segment])['total_revenue'].agg(['count', 'mean'])\n",
    "    summary.columns = ['total_users','ARPU'] \n",
    "    summary = summary.reset_index().pivot_table(index=segment, columns='group', values=['total_users', 'ARPU'])\n",
    "    summary['ARPU_lift %'] = np.round((summary[('ARPU', 'test')]/summary[('ARPU', 'control1')] - 1) * 100)\n",
    "    print(summary)"
   ]
  },
  {
   "cell_type": "code",
   "execution_count": 337,
   "metadata": {},
   "outputs": [
    {
     "name": "stdout",
     "output_type": "stream",
     "text": [
      "                                       ARPU              total_users          \\\n",
      "group                              control1         test    control1    test   \n",
      "country                                                                        \n",
      "Argentina                        338.049618   474.795455       786.0   396.0   \n",
      "Australia                        405.445545   203.177419       101.0    62.0   \n",
      "Belgium                          787.090909   681.369565       198.0    92.0   \n",
      "Canada                           457.425373   463.255474       268.0   137.0   \n",
      "Chile                            359.825480   257.132353       573.0   272.0   \n",
      "China                              0.000000          NaN         2.0     NaN   \n",
      "Colombia                           0.000000     0.000000         3.0     1.0   \n",
      "Costa Rica                         0.000000     0.000000         2.0     1.0   \n",
      "Dominican Republic                 0.000000     0.000000         3.0     1.0   \n",
      "France                           446.949062   706.454039       746.0   359.0   \n",
      "Germany                          244.633333   459.789474       390.0   209.0   \n",
      "India                           1202.500000     0.000000         8.0     4.0   \n",
      "Israel                          1001.695187   894.424528       187.0   106.0   \n",
      "Italy                           1192.847861   351.160991       631.0   323.0   \n",
      "Kyrgyzstan                         0.000000     0.000000         2.0     1.0   \n",
      "Mexico                             0.000000   887.714286         8.0     7.0   \n",
      "Peru                               0.000000     0.000000         2.0     1.0   \n",
      "Portugal                         366.210000     0.000000       200.0    91.0   \n",
      "Qatar                              0.000000          NaN         2.0     NaN   \n",
      "Russian Federation                 0.000000     0.000000        13.0     7.0   \n",
      "Spain                            449.138037   948.265781       652.0   301.0   \n",
      "Switzerland                      709.935065   635.885714        77.0    35.0   \n",
      "Turkey                          7029.000000  1833.000000        13.0     5.0   \n",
      "Ukraine                          341.500000     0.000000        26.0    15.0   \n",
      "United Arab Emirates             460.971292   945.951327       418.0   226.0   \n",
      "United Kingdom (Great Britain)  1011.773973   457.846154       292.0   169.0   \n",
      "United States of America         438.922557   497.819310      2957.0  1450.0   \n",
      "\n",
      "                               ARPU_lift %  \n",
      "group                                       \n",
      "country                                     \n",
      "Argentina                             40.0  \n",
      "Australia                            -50.0  \n",
      "Belgium                              -13.0  \n",
      "Canada                                 1.0  \n",
      "Chile                                -29.0  \n",
      "China                                  NaN  \n",
      "Colombia                               NaN  \n",
      "Costa Rica                             NaN  \n",
      "Dominican Republic                     NaN  \n",
      "France                                58.0  \n",
      "Germany                               88.0  \n",
      "India                               -100.0  \n",
      "Israel                               -11.0  \n",
      "Italy                                -71.0  \n",
      "Kyrgyzstan                             NaN  \n",
      "Mexico                                 inf  \n",
      "Peru                                   NaN  \n",
      "Portugal                            -100.0  \n",
      "Qatar                                  NaN  \n",
      "Russian Federation                     NaN  \n",
      "Spain                                111.0  \n",
      "Switzerland                          -10.0  \n",
      "Turkey                               -74.0  \n",
      "Ukraine                             -100.0  \n",
      "United Arab Emirates                 105.0  \n",
      "United Kingdom (Great Britain)       -55.0  \n",
      "United States of America              13.0  \n"
     ]
    }
   ],
   "source": [
    "summary_ARPU('country')"
   ]
  },
  {
   "cell_type": "markdown",
   "metadata": {},
   "source": [
    "Вывод: Из таблицы видим, что есть несколько стран (Germany, Spain, United Arab Emirates), в которых ARPU значительно выросло. Можно поднять цену только в этих странах и заново запустить эксперимент."
   ]
  },
  {
   "cell_type": "markdown",
   "metadata": {},
   "source": [
    "### Анализ результатов в разрезе пола"
   ]
  },
  {
   "cell_type": "code",
   "execution_count": 338,
   "metadata": {},
   "outputs": [
    {
     "name": "stdout",
     "output_type": "stream",
     "text": [
      "              ARPU             total_users       ARPU_lift %\n",
      "group     control1        test    control1  test            \n",
      "gender                                                      \n",
      "0       229.436170  135.395000         376   200       -41.0\n",
      "1       536.470797  556.039794        8184  4071         4.0\n"
     ]
    }
   ],
   "source": [
    "summary_ARPU('gender')"
   ]
  },
  {
   "cell_type": "markdown",
   "metadata": {},
   "source": [
    "Выводы: Из таблицы видим, что ARPU просело для мужского и женского пола. В приложении очень мало женщин(на одну девушку 20 мужчин). Для дейтингового приложение перекосы по полу критичны. Нужно попробовать привлечь в приложение больше женщин и посмотреть, как это скажется на ключевые метрики."
   ]
  },
  {
   "cell_type": "markdown",
   "metadata": {},
   "source": [
    "### Анализ результатов в разрезе возраста"
   ]
  },
  {
   "cell_type": "code",
   "execution_count": 339,
   "metadata": {},
   "outputs": [],
   "source": [
    "# Присвоение возрастных групп\n",
    "users_data['age_group'] = pd.cut(users_data['age'], bins=5, right=True)"
   ]
  },
  {
   "cell_type": "code",
   "execution_count": 340,
   "metadata": {},
   "outputs": [
    {
     "name": "stdout",
     "output_type": "stream",
     "text": [
      "                       ARPU              total_users       ARPU_lift %\n",
      "group              control1         test    control1  test            \n",
      "age_group                                                             \n",
      "(15.917, 32.6]   586.890909   435.259634        5060  2569       -26.0\n",
      "(32.6, 49.2]     435.401149   716.776398        2959  1449        65.0\n",
      "(49.2, 65.8]     395.535156   365.755274         512   237        -8.0\n",
      "(65.8, 82.4]       0.000000     0.000000          16     7         NaN\n",
      "(82.4, 99.0]    1247.000000  5249.111111          13     9       321.0\n"
     ]
    }
   ],
   "source": [
    "summary_ARPU('age_group')"
   ]
  },
  {
   "cell_type": "markdown",
   "metadata": {},
   "source": [
    "Выводы: Из таблицы видим, что больше всего нашим приложением пользуются 2 возратные группы: 16-33 года и 33-49 лет.\n",
    "ARPU для группы 16-33 упало на 26%, в то время как ARPU для группы 33-49 выросло на 65%. \n",
    "Можно предложить несколько идей экспериментов:\n",
    "* Сделать два тарифа(подешевле, но меньше функций и подороже). Тогда мы возможно найдем компромисс для этих двух сегментов и ARPU пойдет вверх\n",
    "* Сделать цену чуть ниже, чем сейчас в эксперименте. Возможно, этим мы уменьшим сильное падение ARPU у молодой аудитории.\n",
    "* Сделать цену еще выше, чем в эксперименте. Возможно, рост ARPU у зрелой аудитории перекроет падение ARPU у молодой"
   ]
  },
  {
   "cell_type": "markdown",
   "metadata": {},
   "source": [
    "### Выводы"
   ]
  },
  {
   "cell_type": "markdown",
   "metadata": {},
   "source": [
    "Эксперимент с изменением цены на премиум-подписку признан не успешеным, так как наша главная метрика (ARPU) стат значимо не изменилась.\n",
    "\n",
    "ARPPU стат значимо изменился в положительную сторону(+33%). Скорее всего из-за того, что цену на подписку подняли и те, кто покупают, соответственно стали платить нам больше, но это не покрыло наших потерь в конверсии в платящего пользователя, которая упала(-34%) стат значимо.\n",
    "\n",
    "Однако рекумендуется перезапустить эксперимент только в странах(Germany, Spain, United Arab Emirates), в которых ARPU показал рост.\n",
    "\n",
    "В приложении очень мало женщин(на одну девушку 20 мужчин). Для дейтингового приложение перекосы по полу критичны. Нужно попробовать привлечь в приложение больше женщин и посмотреть, как это скажется на ключевые метрики.\n",
    "\n",
    "Больше всего нашим приложением пользуются 2 возратные группы: 16-33 года и 33-49 лет. ARPU для группы 16-33 упало на 26%, в то время как ARPU для группы 33-49 выросло на 65%. Можно предложить несколько идей экспериментов:\n",
    "\n",
    "- Сделать два тарифа(подешевле, но меньше функций и подороже). Тогда мы возможно найдем компромисс для этих двух сегментов и ARPU пойдет вверх\n",
    "- Сделать цену чуть ниже, чем сейчас в эксперименте. Возможно, этим мы уменьшим сильное падение ARPU у молодой аудитории.\n",
    "- Сделать цену еще выше, чем в эксперименте. Возможно, рост ARPU у зрелой аудитории перекроет падение ARPU у молодой"
   ]
  },
  {
   "cell_type": "code",
   "execution_count": null,
   "metadata": {},
   "outputs": [],
   "source": []
  }
 ],
 "metadata": {
  "kernelspec": {
   "display_name": "Python 3",
   "language": "python",
   "name": "python3"
  },
  "language_info": {
   "codemirror_mode": {
    "name": "ipython",
    "version": 3
   },
   "file_extension": ".py",
   "mimetype": "text/x-python",
   "name": "python",
   "nbconvert_exporter": "python",
   "pygments_lexer": "ipython3",
   "version": "3.7.3"
  }
 },
 "nbformat": 4,
 "nbformat_minor": 4
}
